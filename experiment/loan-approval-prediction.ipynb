{
 "cells": [
  {
   "metadata": {},
   "cell_type": "markdown",
   "source": "## Import required library packages",
   "id": "e4ad365e16f3e9ff"
  },
  {
   "cell_type": "code",
   "id": "c6190eb6",
   "metadata": {
    "ExecuteTime": {
     "end_time": "2025-01-09T17:43:28.036255Z",
     "start_time": "2025-01-09T17:43:28.031747Z"
    }
   },
   "source": [
    "import pandas as pd\n",
    "import numpy as np\n",
    "import matplotlib.pyplot as plt\n",
    "import seaborn as sns\n",
    "\n",
    "from sklearn.preprocessing import LabelEncoder\n",
    "from sklearn.model_selection import train_test_split, cross_val_score\n",
    "from sklearn.linear_model import LogisticRegression\n",
    "from sklearn.tree import DecisionTreeClassifier\n",
    "from sklearn.ensemble import RandomForestClassifier\n",
    "from sklearn.metrics import accuracy_score, recall_score, precision_score, confusion_matrix, roc_auc_score, roc_curve,ConfusionMatrixDisplay, classification_report\n",
    "from helper.aws_helper import S3Connection"
   ],
   "outputs": [],
   "execution_count": 108
  },
  {
   "metadata": {},
   "cell_type": "markdown",
   "source": "## Import Dataset from AWS S3 bucket",
   "id": "1b6002355249931a"
  },
  {
   "cell_type": "code",
   "id": "fb0b2fd7",
   "metadata": {
    "ExecuteTime": {
     "end_time": "2025-01-09T17:43:29.663830Z",
     "start_time": "2025-01-09T17:43:28.578315Z"
    }
   },
   "source": [
    "# instantiate and read dataset\n",
    "conn = S3Connection()\n",
    "loan_df = conn.read_file(\"loan-pred-docs/loan-prediction-dataset.csv\",\n",
    "                                     \"loan-pred-docs\")"
   ],
   "outputs": [],
   "execution_count": 109
  },
  {
   "cell_type": "code",
   "id": "736a861a",
   "metadata": {
    "scrolled": true,
    "ExecuteTime": {
     "end_time": "2025-01-09T17:43:29.679304Z",
     "start_time": "2025-01-09T17:43:29.665838Z"
    }
   },
   "source": [
    "# see the first 5 data row\n",
    "loan_df.head()"
   ],
   "outputs": [
    {
     "data": {
      "text/plain": [
       "    Loan_ID Gender Married Dependents     Education Self_Employed  \\\n",
       "0  LP001002   Male      No          0      Graduate            No   \n",
       "1  LP001003   Male     Yes          1      Graduate            No   \n",
       "2  LP001005   Male     Yes          0      Graduate           Yes   \n",
       "3  LP001006   Male     Yes          0  Not Graduate            No   \n",
       "4  LP001008   Male      No          0      Graduate            No   \n",
       "\n",
       "   ApplicantIncome  CoapplicantIncome  LoanAmount  Loan_Amount_Term  \\\n",
       "0             5849                0.0         NaN             360.0   \n",
       "1             4583             1508.0       128.0             360.0   \n",
       "2             3000                0.0        66.0             360.0   \n",
       "3             2583             2358.0       120.0             360.0   \n",
       "4             6000                0.0       141.0             360.0   \n",
       "\n",
       "   Credit_History Property_Area Loan_Status  \n",
       "0             1.0         Urban           Y  \n",
       "1             1.0         Rural           N  \n",
       "2             1.0         Urban           Y  \n",
       "3             1.0         Urban           Y  \n",
       "4             1.0         Urban           Y  "
      ],
      "text/html": [
       "<div>\n",
       "<style scoped>\n",
       "    .dataframe tbody tr th:only-of-type {\n",
       "        vertical-align: middle;\n",
       "    }\n",
       "\n",
       "    .dataframe tbody tr th {\n",
       "        vertical-align: top;\n",
       "    }\n",
       "\n",
       "    .dataframe thead th {\n",
       "        text-align: right;\n",
       "    }\n",
       "</style>\n",
       "<table border=\"1\" class=\"dataframe\">\n",
       "  <thead>\n",
       "    <tr style=\"text-align: right;\">\n",
       "      <th></th>\n",
       "      <th>Loan_ID</th>\n",
       "      <th>Gender</th>\n",
       "      <th>Married</th>\n",
       "      <th>Dependents</th>\n",
       "      <th>Education</th>\n",
       "      <th>Self_Employed</th>\n",
       "      <th>ApplicantIncome</th>\n",
       "      <th>CoapplicantIncome</th>\n",
       "      <th>LoanAmount</th>\n",
       "      <th>Loan_Amount_Term</th>\n",
       "      <th>Credit_History</th>\n",
       "      <th>Property_Area</th>\n",
       "      <th>Loan_Status</th>\n",
       "    </tr>\n",
       "  </thead>\n",
       "  <tbody>\n",
       "    <tr>\n",
       "      <th>0</th>\n",
       "      <td>LP001002</td>\n",
       "      <td>Male</td>\n",
       "      <td>No</td>\n",
       "      <td>0</td>\n",
       "      <td>Graduate</td>\n",
       "      <td>No</td>\n",
       "      <td>5849</td>\n",
       "      <td>0.0</td>\n",
       "      <td>NaN</td>\n",
       "      <td>360.0</td>\n",
       "      <td>1.0</td>\n",
       "      <td>Urban</td>\n",
       "      <td>Y</td>\n",
       "    </tr>\n",
       "    <tr>\n",
       "      <th>1</th>\n",
       "      <td>LP001003</td>\n",
       "      <td>Male</td>\n",
       "      <td>Yes</td>\n",
       "      <td>1</td>\n",
       "      <td>Graduate</td>\n",
       "      <td>No</td>\n",
       "      <td>4583</td>\n",
       "      <td>1508.0</td>\n",
       "      <td>128.0</td>\n",
       "      <td>360.0</td>\n",
       "      <td>1.0</td>\n",
       "      <td>Rural</td>\n",
       "      <td>N</td>\n",
       "    </tr>\n",
       "    <tr>\n",
       "      <th>2</th>\n",
       "      <td>LP001005</td>\n",
       "      <td>Male</td>\n",
       "      <td>Yes</td>\n",
       "      <td>0</td>\n",
       "      <td>Graduate</td>\n",
       "      <td>Yes</td>\n",
       "      <td>3000</td>\n",
       "      <td>0.0</td>\n",
       "      <td>66.0</td>\n",
       "      <td>360.0</td>\n",
       "      <td>1.0</td>\n",
       "      <td>Urban</td>\n",
       "      <td>Y</td>\n",
       "    </tr>\n",
       "    <tr>\n",
       "      <th>3</th>\n",
       "      <td>LP001006</td>\n",
       "      <td>Male</td>\n",
       "      <td>Yes</td>\n",
       "      <td>0</td>\n",
       "      <td>Not Graduate</td>\n",
       "      <td>No</td>\n",
       "      <td>2583</td>\n",
       "      <td>2358.0</td>\n",
       "      <td>120.0</td>\n",
       "      <td>360.0</td>\n",
       "      <td>1.0</td>\n",
       "      <td>Urban</td>\n",
       "      <td>Y</td>\n",
       "    </tr>\n",
       "    <tr>\n",
       "      <th>4</th>\n",
       "      <td>LP001008</td>\n",
       "      <td>Male</td>\n",
       "      <td>No</td>\n",
       "      <td>0</td>\n",
       "      <td>Graduate</td>\n",
       "      <td>No</td>\n",
       "      <td>6000</td>\n",
       "      <td>0.0</td>\n",
       "      <td>141.0</td>\n",
       "      <td>360.0</td>\n",
       "      <td>1.0</td>\n",
       "      <td>Urban</td>\n",
       "      <td>Y</td>\n",
       "    </tr>\n",
       "  </tbody>\n",
       "</table>\n",
       "</div>"
      ]
     },
     "execution_count": 110,
     "metadata": {},
     "output_type": "execute_result"
    }
   ],
   "execution_count": 110
  },
  {
   "cell_type": "code",
   "id": "9f12c2c4",
   "metadata": {
    "ExecuteTime": {
     "end_time": "2025-01-09T17:43:29.687281Z",
     "start_time": "2025-01-09T17:43:29.681311Z"
    }
   },
   "source": [
    "# dimension of data set\n",
    "loan_df.shape"
   ],
   "outputs": [
    {
     "data": {
      "text/plain": [
       "(614, 13)"
      ]
     },
     "execution_count": 111,
     "metadata": {},
     "output_type": "execute_result"
    }
   ],
   "execution_count": 111
  },
  {
   "cell_type": "code",
   "id": "63c9a967",
   "metadata": {
    "ExecuteTime": {
     "end_time": "2025-01-09T17:43:29.696200Z",
     "start_time": "2025-01-09T17:43:29.689287Z"
    }
   },
   "source": [
    "# data types of columns in data set\n",
    "loan_df.dtypes"
   ],
   "outputs": [
    {
     "data": {
      "text/plain": [
       "Loan_ID               object\n",
       "Gender                object\n",
       "Married               object\n",
       "Dependents            object\n",
       "Education             object\n",
       "Self_Employed         object\n",
       "ApplicantIncome        int64\n",
       "CoapplicantIncome    float64\n",
       "LoanAmount           float64\n",
       "Loan_Amount_Term     float64\n",
       "Credit_History       float64\n",
       "Property_Area         object\n",
       "Loan_Status           object\n",
       "dtype: object"
      ]
     },
     "execution_count": 112,
     "metadata": {},
     "output_type": "execute_result"
    }
   ],
   "execution_count": 112
  },
  {
   "cell_type": "markdown",
   "id": "7012dc05",
   "metadata": {},
   "source": [
    "### Analyse and fill in missing data"
   ]
  },
  {
   "cell_type": "code",
   "id": "086aa583",
   "metadata": {
    "ExecuteTime": {
     "end_time": "2025-01-09T17:43:30.006863Z",
     "start_time": "2025-01-09T17:43:29.999351Z"
    }
   },
   "source": [
    "# sum up missing data per column\n",
    "loan_df.isnull().sum()"
   ],
   "outputs": [
    {
     "data": {
      "text/plain": [
       "Loan_ID               0\n",
       "Gender               13\n",
       "Married               3\n",
       "Dependents           15\n",
       "Education             0\n",
       "Self_Employed        32\n",
       "ApplicantIncome       0\n",
       "CoapplicantIncome     0\n",
       "LoanAmount           22\n",
       "Loan_Amount_Term     14\n",
       "Credit_History       50\n",
       "Property_Area         0\n",
       "Loan_Status           0\n",
       "dtype: int64"
      ]
     },
     "execution_count": 113,
     "metadata": {},
     "output_type": "execute_result"
    }
   ],
   "execution_count": 113
  },
  {
   "cell_type": "markdown",
   "id": "f6d857fa",
   "metadata": {},
   "source": [
    "#### Fill in categorical missing features with the mode"
   ]
  },
  {
   "cell_type": "code",
   "id": "2e616bd6",
   "metadata": {
    "ExecuteTime": {
     "end_time": "2025-01-09T17:43:30.370486Z",
     "start_time": "2025-01-09T17:43:30.365747Z"
    }
   },
   "source": [
    "# create separate memory for dataset with no missing data\n",
    "loan_no_missing_data_df = loan_df"
   ],
   "outputs": [],
   "execution_count": 114
  },
  {
   "cell_type": "code",
   "id": "8d3c04c6",
   "metadata": {
    "ExecuteTime": {
     "end_time": "2025-01-09T17:43:30.912343Z",
     "start_time": "2025-01-09T17:43:30.902538Z"
    }
   },
   "source": [
    "# Gender, Married, Dependents, Self_Employed, Loan_Amount_Term and Credit_History features are categorised, \n",
    "# therefore, we use the modes to fill in missing datas\n",
    "\n",
    "# Gender\n",
    "loan_no_missing_data_df['Gender'] = loan_no_missing_data_df['Gender'].fillna(loan_no_missing_data_df['Gender'].mode()[0])\n",
    "# Married\n",
    "loan_no_missing_data_df['Married'] = loan_no_missing_data_df['Married'].fillna(loan_no_missing_data_df['Married'].mode()[0])\n",
    "# Dependents\n",
    "loan_no_missing_data_df['Dependents'] = loan_no_missing_data_df['Dependents'].fillna(loan_no_missing_data_df['Dependents'].mode()[0])\n",
    "# Self_Employed\n",
    "loan_no_missing_data_df['Self_Employed'] = loan_no_missing_data_df['Self_Employed'].fillna(loan_no_missing_data_df['Self_Employed'].mode()[0])\n",
    "# Loan_Amount_Term\n",
    "loan_no_missing_data_df['Loan_Amount_Term'] = loan_no_missing_data_df['Loan_Amount_Term'].fillna(loan_no_missing_data_df['Loan_Amount_Term'].mode()[0])\n",
    "# Credit_History\n",
    "loan_no_missing_data_df['Credit_History'] = loan_no_missing_data_df['Credit_History'].fillna(loan_no_missing_data_df['Credit_History'].mode()[0])"
   ],
   "outputs": [],
   "execution_count": 115
  },
  {
   "cell_type": "markdown",
   "id": "b87a77a5",
   "metadata": {},
   "source": [
    "#### Fill in continuous missing features with the mean"
   ]
  },
  {
   "cell_type": "code",
   "id": "32c3f371",
   "metadata": {
    "ExecuteTime": {
     "end_time": "2025-01-09T17:43:31.113314Z",
     "start_time": "2025-01-09T17:43:31.107397Z"
    }
   },
   "source": [
    "# LoanAmount feature is continuous,therefore, we use the mean to fill in missing datas\n",
    "loan_no_missing_data_df['LoanAmount'] = loan_no_missing_data_df['LoanAmount'].fillna(loan_no_missing_data_df['LoanAmount'].mean())"
   ],
   "outputs": [],
   "execution_count": 116
  },
  {
   "cell_type": "code",
   "id": "bc77e4bb",
   "metadata": {
    "ExecuteTime": {
     "end_time": "2025-01-09T17:43:31.448204Z",
     "start_time": "2025-01-09T17:43:31.438660Z"
    }
   },
   "source": [
    "# confirm there is no more missing data\n",
    "loan_no_missing_data_df.isnull().sum()"
   ],
   "outputs": [
    {
     "data": {
      "text/plain": [
       "Loan_ID              0\n",
       "Gender               0\n",
       "Married              0\n",
       "Dependents           0\n",
       "Education            0\n",
       "Self_Employed        0\n",
       "ApplicantIncome      0\n",
       "CoapplicantIncome    0\n",
       "LoanAmount           0\n",
       "Loan_Amount_Term     0\n",
       "Credit_History       0\n",
       "Property_Area        0\n",
       "Loan_Status          0\n",
       "dtype: int64"
      ]
     },
     "execution_count": 117,
     "metadata": {},
     "output_type": "execute_result"
    }
   ],
   "execution_count": 117
  },
  {
   "cell_type": "code",
   "id": "ec56fd4c",
   "metadata": {
    "ExecuteTime": {
     "end_time": "2025-01-09T17:43:31.939784Z",
     "start_time": "2025-01-09T17:43:31.922754Z"
    }
   },
   "source": [
    "loan_no_missing_data_df.head()"
   ],
   "outputs": [
    {
     "data": {
      "text/plain": [
       "    Loan_ID Gender Married Dependents     Education Self_Employed  \\\n",
       "0  LP001002   Male      No          0      Graduate            No   \n",
       "1  LP001003   Male     Yes          1      Graduate            No   \n",
       "2  LP001005   Male     Yes          0      Graduate           Yes   \n",
       "3  LP001006   Male     Yes          0  Not Graduate            No   \n",
       "4  LP001008   Male      No          0      Graduate            No   \n",
       "\n",
       "   ApplicantIncome  CoapplicantIncome  LoanAmount  Loan_Amount_Term  \\\n",
       "0             5849                0.0  146.412162             360.0   \n",
       "1             4583             1508.0  128.000000             360.0   \n",
       "2             3000                0.0   66.000000             360.0   \n",
       "3             2583             2358.0  120.000000             360.0   \n",
       "4             6000                0.0  141.000000             360.0   \n",
       "\n",
       "   Credit_History Property_Area Loan_Status  \n",
       "0             1.0         Urban           Y  \n",
       "1             1.0         Rural           N  \n",
       "2             1.0         Urban           Y  \n",
       "3             1.0         Urban           Y  \n",
       "4             1.0         Urban           Y  "
      ],
      "text/html": [
       "<div>\n",
       "<style scoped>\n",
       "    .dataframe tbody tr th:only-of-type {\n",
       "        vertical-align: middle;\n",
       "    }\n",
       "\n",
       "    .dataframe tbody tr th {\n",
       "        vertical-align: top;\n",
       "    }\n",
       "\n",
       "    .dataframe thead th {\n",
       "        text-align: right;\n",
       "    }\n",
       "</style>\n",
       "<table border=\"1\" class=\"dataframe\">\n",
       "  <thead>\n",
       "    <tr style=\"text-align: right;\">\n",
       "      <th></th>\n",
       "      <th>Loan_ID</th>\n",
       "      <th>Gender</th>\n",
       "      <th>Married</th>\n",
       "      <th>Dependents</th>\n",
       "      <th>Education</th>\n",
       "      <th>Self_Employed</th>\n",
       "      <th>ApplicantIncome</th>\n",
       "      <th>CoapplicantIncome</th>\n",
       "      <th>LoanAmount</th>\n",
       "      <th>Loan_Amount_Term</th>\n",
       "      <th>Credit_History</th>\n",
       "      <th>Property_Area</th>\n",
       "      <th>Loan_Status</th>\n",
       "    </tr>\n",
       "  </thead>\n",
       "  <tbody>\n",
       "    <tr>\n",
       "      <th>0</th>\n",
       "      <td>LP001002</td>\n",
       "      <td>Male</td>\n",
       "      <td>No</td>\n",
       "      <td>0</td>\n",
       "      <td>Graduate</td>\n",
       "      <td>No</td>\n",
       "      <td>5849</td>\n",
       "      <td>0.0</td>\n",
       "      <td>146.412162</td>\n",
       "      <td>360.0</td>\n",
       "      <td>1.0</td>\n",
       "      <td>Urban</td>\n",
       "      <td>Y</td>\n",
       "    </tr>\n",
       "    <tr>\n",
       "      <th>1</th>\n",
       "      <td>LP001003</td>\n",
       "      <td>Male</td>\n",
       "      <td>Yes</td>\n",
       "      <td>1</td>\n",
       "      <td>Graduate</td>\n",
       "      <td>No</td>\n",
       "      <td>4583</td>\n",
       "      <td>1508.0</td>\n",
       "      <td>128.000000</td>\n",
       "      <td>360.0</td>\n",
       "      <td>1.0</td>\n",
       "      <td>Rural</td>\n",
       "      <td>N</td>\n",
       "    </tr>\n",
       "    <tr>\n",
       "      <th>2</th>\n",
       "      <td>LP001005</td>\n",
       "      <td>Male</td>\n",
       "      <td>Yes</td>\n",
       "      <td>0</td>\n",
       "      <td>Graduate</td>\n",
       "      <td>Yes</td>\n",
       "      <td>3000</td>\n",
       "      <td>0.0</td>\n",
       "      <td>66.000000</td>\n",
       "      <td>360.0</td>\n",
       "      <td>1.0</td>\n",
       "      <td>Urban</td>\n",
       "      <td>Y</td>\n",
       "    </tr>\n",
       "    <tr>\n",
       "      <th>3</th>\n",
       "      <td>LP001006</td>\n",
       "      <td>Male</td>\n",
       "      <td>Yes</td>\n",
       "      <td>0</td>\n",
       "      <td>Not Graduate</td>\n",
       "      <td>No</td>\n",
       "      <td>2583</td>\n",
       "      <td>2358.0</td>\n",
       "      <td>120.000000</td>\n",
       "      <td>360.0</td>\n",
       "      <td>1.0</td>\n",
       "      <td>Urban</td>\n",
       "      <td>Y</td>\n",
       "    </tr>\n",
       "    <tr>\n",
       "      <th>4</th>\n",
       "      <td>LP001008</td>\n",
       "      <td>Male</td>\n",
       "      <td>No</td>\n",
       "      <td>0</td>\n",
       "      <td>Graduate</td>\n",
       "      <td>No</td>\n",
       "      <td>6000</td>\n",
       "      <td>0.0</td>\n",
       "      <td>141.000000</td>\n",
       "      <td>360.0</td>\n",
       "      <td>1.0</td>\n",
       "      <td>Urban</td>\n",
       "      <td>Y</td>\n",
       "    </tr>\n",
       "  </tbody>\n",
       "</table>\n",
       "</div>"
      ]
     },
     "execution_count": 118,
     "metadata": {},
     "output_type": "execute_result"
    }
   ],
   "execution_count": 118
  },
  {
   "cell_type": "markdown",
   "id": "7d4f9b4f",
   "metadata": {},
   "source": [
    "## Check for outliers in continuous features"
   ]
  },
  {
   "cell_type": "code",
   "id": "4ae49ce2",
   "metadata": {
    "ExecuteTime": {
     "end_time": "2025-01-09T17:43:32.216701Z",
     "start_time": "2025-01-09T17:43:32.201146Z"
    }
   },
   "source": [
    "loan_no_missing_data_describe_df = loan_no_missing_data_df[[\"ApplicantIncome\",\"CoapplicantIncome\", \"LoanAmount\"]].describe()"
   ],
   "outputs": [],
   "execution_count": 119
  },
  {
   "cell_type": "code",
   "id": "35e310de",
   "metadata": {
    "scrolled": true,
    "ExecuteTime": {
     "end_time": "2025-01-09T17:43:32.568768Z",
     "start_time": "2025-01-09T17:43:32.557630Z"
    }
   },
   "source": [
    "loan_no_missing_data_describe_df"
   ],
   "outputs": [
    {
     "data": {
      "text/plain": [
       "       ApplicantIncome  CoapplicantIncome  LoanAmount\n",
       "count       614.000000         614.000000  614.000000\n",
       "mean       5403.459283        1621.245798  146.412162\n",
       "std        6109.041673        2926.248369   84.037468\n",
       "min         150.000000           0.000000    9.000000\n",
       "25%        2877.500000           0.000000  100.250000\n",
       "50%        3812.500000        1188.500000  129.000000\n",
       "75%        5795.000000        2297.250000  164.750000\n",
       "max       81000.000000       41667.000000  700.000000"
      ],
      "text/html": [
       "<div>\n",
       "<style scoped>\n",
       "    .dataframe tbody tr th:only-of-type {\n",
       "        vertical-align: middle;\n",
       "    }\n",
       "\n",
       "    .dataframe tbody tr th {\n",
       "        vertical-align: top;\n",
       "    }\n",
       "\n",
       "    .dataframe thead th {\n",
       "        text-align: right;\n",
       "    }\n",
       "</style>\n",
       "<table border=\"1\" class=\"dataframe\">\n",
       "  <thead>\n",
       "    <tr style=\"text-align: right;\">\n",
       "      <th></th>\n",
       "      <th>ApplicantIncome</th>\n",
       "      <th>CoapplicantIncome</th>\n",
       "      <th>LoanAmount</th>\n",
       "    </tr>\n",
       "  </thead>\n",
       "  <tbody>\n",
       "    <tr>\n",
       "      <th>count</th>\n",
       "      <td>614.000000</td>\n",
       "      <td>614.000000</td>\n",
       "      <td>614.000000</td>\n",
       "    </tr>\n",
       "    <tr>\n",
       "      <th>mean</th>\n",
       "      <td>5403.459283</td>\n",
       "      <td>1621.245798</td>\n",
       "      <td>146.412162</td>\n",
       "    </tr>\n",
       "    <tr>\n",
       "      <th>std</th>\n",
       "      <td>6109.041673</td>\n",
       "      <td>2926.248369</td>\n",
       "      <td>84.037468</td>\n",
       "    </tr>\n",
       "    <tr>\n",
       "      <th>min</th>\n",
       "      <td>150.000000</td>\n",
       "      <td>0.000000</td>\n",
       "      <td>9.000000</td>\n",
       "    </tr>\n",
       "    <tr>\n",
       "      <th>25%</th>\n",
       "      <td>2877.500000</td>\n",
       "      <td>0.000000</td>\n",
       "      <td>100.250000</td>\n",
       "    </tr>\n",
       "    <tr>\n",
       "      <th>50%</th>\n",
       "      <td>3812.500000</td>\n",
       "      <td>1188.500000</td>\n",
       "      <td>129.000000</td>\n",
       "    </tr>\n",
       "    <tr>\n",
       "      <th>75%</th>\n",
       "      <td>5795.000000</td>\n",
       "      <td>2297.250000</td>\n",
       "      <td>164.750000</td>\n",
       "    </tr>\n",
       "    <tr>\n",
       "      <th>max</th>\n",
       "      <td>81000.000000</td>\n",
       "      <td>41667.000000</td>\n",
       "      <td>700.000000</td>\n",
       "    </tr>\n",
       "  </tbody>\n",
       "</table>\n",
       "</div>"
      ]
     },
     "execution_count": 120,
     "metadata": {},
     "output_type": "execute_result"
    }
   ],
   "execution_count": 120
  },
  {
   "cell_type": "code",
   "id": "5037b472",
   "metadata": {
    "ExecuteTime": {
     "end_time": "2025-01-09T17:43:32.767708Z",
     "start_time": "2025-01-09T17:43:32.763394Z"
    }
   },
   "source": [
    "# InterQuartile range check, to find lower and higher outliers per continuous features\n",
    "def IQR_check(df):\n",
    "    IQR_info = {}\n",
    "    for col in df.columns:\n",
    "        # dictionary of lower and higher outliers per numeric features, using Q1 - 1.5*IQR & Q3 - 1.5*IQR \n",
    "        IQR_info[col] = [df[col].loc[\"25%\"] - 1.5*df[col].loc[\"25%\"], df[col].loc[\"75%\"] + 1.5*df[col].loc[\"75%\"]]\n",
    "    return IQR_info"
   ],
   "outputs": [],
   "execution_count": 121
  },
  {
   "cell_type": "code",
   "id": "2f2a4513",
   "metadata": {
    "ExecuteTime": {
     "end_time": "2025-01-09T17:43:33.105377Z",
     "start_time": "2025-01-09T17:43:33.100304Z"
    }
   },
   "source": [
    "# call the IQR function with data\n",
    "IQR_check(loan_no_missing_data_describe_df)"
   ],
   "outputs": [
    {
     "data": {
      "text/plain": [
       "{'ApplicantIncome': [np.float64(-1438.75), np.float64(14487.5)],\n",
       " 'CoapplicantIncome': [np.float64(0.0), np.float64(5743.125)],\n",
       " 'LoanAmount': [np.float64(-50.125), np.float64(411.875)]}"
      ]
     },
     "execution_count": 122,
     "metadata": {},
     "output_type": "execute_result"
    }
   ],
   "execution_count": 122
  },
  {
   "cell_type": "code",
   "id": "e9397d9b",
   "metadata": {
    "ExecuteTime": {
     "end_time": "2025-01-09T17:43:33.322633Z",
     "start_time": "2025-01-09T17:43:33.318124Z"
    }
   },
   "source": [
    "IQR_range = IQR_check(loan_no_missing_data_describe_df)"
   ],
   "outputs": [],
   "execution_count": 123
  },
  {
   "cell_type": "code",
   "id": "649911dc",
   "metadata": {
    "scrolled": true,
    "ExecuteTime": {
     "end_time": "2025-01-09T17:43:33.616773Z",
     "start_time": "2025-01-09T17:43:33.538557Z"
    }
   },
   "source": [
    "# Create a column to indicate if `ApplicantIncome` column is an outlier using the lower and higher limit\n",
    "loan_no_missing_data_df[\"ApplicantIncome_is_outlier\"] = loan_no_missing_data_df[\"ApplicantIncome\"].apply(lambda x: \"Yes\" if x < IQR_range[\"ApplicantIncome\"][0] or x > IQR_range[\"ApplicantIncome\"][1] else \"No\")\n",
    "\n",
    "# Create a column to indicate if `CoapplicantIncome` column is an outlier using the lower and higher limit\n",
    "loan_no_missing_data_df[\"CoapplicantIncome_is_outlier\"] = loan_no_missing_data_df[\"CoapplicantIncome\"].apply(lambda x: \"Yes\" if x < IQR_range[\"CoapplicantIncome\"][0] or x > IQR_range[\"CoapplicantIncome\"][1] else \"No\")\n",
    "\n",
    "# Create a column to indicate if `LoanAmount` column is an outlier using the lower and higher limit\n",
    "loan_no_missing_data_df[\"LoanAmount_is_outlier\"] = loan_no_missing_data_df[\"LoanAmount\"].apply(lambda x: \"Yes\" if x < IQR_range[\"LoanAmount\"][0] or x > IQR_range[\"LoanAmount\"][1] else \"No\")\n",
    "\n",
    "# Create a column to indicate if all of `ApplicantIncome, CoapplicantIncome or LoanAmount` columns is an outlier\n",
    "loan_no_missing_data_df['All_outliers'] = loan_no_missing_data_df[[\"ApplicantIncome_is_outlier\", \"CoapplicantIncome_is_outlier\", \"LoanAmount_is_outlier\"]].apply(lambda x: \"Yes\" if x.isin([\"Yes\"]).sum() == 3 else \"No\", axis=1)"
   ],
   "outputs": [],
   "execution_count": 124
  },
  {
   "cell_type": "code",
   "id": "031a2063",
   "metadata": {
    "ExecuteTime": {
     "end_time": "2025-01-09T17:43:33.758352Z",
     "start_time": "2025-01-09T17:43:33.739185Z"
    }
   },
   "source": [
    "loan_no_missing_data_df"
   ],
   "outputs": [
    {
     "data": {
      "text/plain": [
       "      Loan_ID  Gender Married Dependents     Education Self_Employed  \\\n",
       "0    LP001002    Male      No          0      Graduate            No   \n",
       "1    LP001003    Male     Yes          1      Graduate            No   \n",
       "2    LP001005    Male     Yes          0      Graduate           Yes   \n",
       "3    LP001006    Male     Yes          0  Not Graduate            No   \n",
       "4    LP001008    Male      No          0      Graduate            No   \n",
       "..        ...     ...     ...        ...           ...           ...   \n",
       "609  LP002978  Female      No          0      Graduate            No   \n",
       "610  LP002979    Male     Yes         3+      Graduate            No   \n",
       "611  LP002983    Male     Yes          1      Graduate            No   \n",
       "612  LP002984    Male     Yes          2      Graduate            No   \n",
       "613  LP002990  Female      No          0      Graduate           Yes   \n",
       "\n",
       "     ApplicantIncome  CoapplicantIncome  LoanAmount  Loan_Amount_Term  \\\n",
       "0               5849                0.0  146.412162             360.0   \n",
       "1               4583             1508.0  128.000000             360.0   \n",
       "2               3000                0.0   66.000000             360.0   \n",
       "3               2583             2358.0  120.000000             360.0   \n",
       "4               6000                0.0  141.000000             360.0   \n",
       "..               ...                ...         ...               ...   \n",
       "609             2900                0.0   71.000000             360.0   \n",
       "610             4106                0.0   40.000000             180.0   \n",
       "611             8072              240.0  253.000000             360.0   \n",
       "612             7583                0.0  187.000000             360.0   \n",
       "613             4583                0.0  133.000000             360.0   \n",
       "\n",
       "     Credit_History Property_Area Loan_Status ApplicantIncome_is_outlier  \\\n",
       "0               1.0         Urban           Y                         No   \n",
       "1               1.0         Rural           N                         No   \n",
       "2               1.0         Urban           Y                         No   \n",
       "3               1.0         Urban           Y                         No   \n",
       "4               1.0         Urban           Y                         No   \n",
       "..              ...           ...         ...                        ...   \n",
       "609             1.0         Rural           Y                         No   \n",
       "610             1.0         Rural           Y                         No   \n",
       "611             1.0         Urban           Y                         No   \n",
       "612             1.0         Urban           Y                         No   \n",
       "613             0.0     Semiurban           N                         No   \n",
       "\n",
       "    CoapplicantIncome_is_outlier LoanAmount_is_outlier All_outliers  \n",
       "0                             No                    No           No  \n",
       "1                             No                    No           No  \n",
       "2                             No                    No           No  \n",
       "3                             No                    No           No  \n",
       "4                             No                    No           No  \n",
       "..                           ...                   ...          ...  \n",
       "609                           No                    No           No  \n",
       "610                           No                    No           No  \n",
       "611                           No                    No           No  \n",
       "612                           No                    No           No  \n",
       "613                           No                    No           No  \n",
       "\n",
       "[614 rows x 17 columns]"
      ],
      "text/html": [
       "<div>\n",
       "<style scoped>\n",
       "    .dataframe tbody tr th:only-of-type {\n",
       "        vertical-align: middle;\n",
       "    }\n",
       "\n",
       "    .dataframe tbody tr th {\n",
       "        vertical-align: top;\n",
       "    }\n",
       "\n",
       "    .dataframe thead th {\n",
       "        text-align: right;\n",
       "    }\n",
       "</style>\n",
       "<table border=\"1\" class=\"dataframe\">\n",
       "  <thead>\n",
       "    <tr style=\"text-align: right;\">\n",
       "      <th></th>\n",
       "      <th>Loan_ID</th>\n",
       "      <th>Gender</th>\n",
       "      <th>Married</th>\n",
       "      <th>Dependents</th>\n",
       "      <th>Education</th>\n",
       "      <th>Self_Employed</th>\n",
       "      <th>ApplicantIncome</th>\n",
       "      <th>CoapplicantIncome</th>\n",
       "      <th>LoanAmount</th>\n",
       "      <th>Loan_Amount_Term</th>\n",
       "      <th>Credit_History</th>\n",
       "      <th>Property_Area</th>\n",
       "      <th>Loan_Status</th>\n",
       "      <th>ApplicantIncome_is_outlier</th>\n",
       "      <th>CoapplicantIncome_is_outlier</th>\n",
       "      <th>LoanAmount_is_outlier</th>\n",
       "      <th>All_outliers</th>\n",
       "    </tr>\n",
       "  </thead>\n",
       "  <tbody>\n",
       "    <tr>\n",
       "      <th>0</th>\n",
       "      <td>LP001002</td>\n",
       "      <td>Male</td>\n",
       "      <td>No</td>\n",
       "      <td>0</td>\n",
       "      <td>Graduate</td>\n",
       "      <td>No</td>\n",
       "      <td>5849</td>\n",
       "      <td>0.0</td>\n",
       "      <td>146.412162</td>\n",
       "      <td>360.0</td>\n",
       "      <td>1.0</td>\n",
       "      <td>Urban</td>\n",
       "      <td>Y</td>\n",
       "      <td>No</td>\n",
       "      <td>No</td>\n",
       "      <td>No</td>\n",
       "      <td>No</td>\n",
       "    </tr>\n",
       "    <tr>\n",
       "      <th>1</th>\n",
       "      <td>LP001003</td>\n",
       "      <td>Male</td>\n",
       "      <td>Yes</td>\n",
       "      <td>1</td>\n",
       "      <td>Graduate</td>\n",
       "      <td>No</td>\n",
       "      <td>4583</td>\n",
       "      <td>1508.0</td>\n",
       "      <td>128.000000</td>\n",
       "      <td>360.0</td>\n",
       "      <td>1.0</td>\n",
       "      <td>Rural</td>\n",
       "      <td>N</td>\n",
       "      <td>No</td>\n",
       "      <td>No</td>\n",
       "      <td>No</td>\n",
       "      <td>No</td>\n",
       "    </tr>\n",
       "    <tr>\n",
       "      <th>2</th>\n",
       "      <td>LP001005</td>\n",
       "      <td>Male</td>\n",
       "      <td>Yes</td>\n",
       "      <td>0</td>\n",
       "      <td>Graduate</td>\n",
       "      <td>Yes</td>\n",
       "      <td>3000</td>\n",
       "      <td>0.0</td>\n",
       "      <td>66.000000</td>\n",
       "      <td>360.0</td>\n",
       "      <td>1.0</td>\n",
       "      <td>Urban</td>\n",
       "      <td>Y</td>\n",
       "      <td>No</td>\n",
       "      <td>No</td>\n",
       "      <td>No</td>\n",
       "      <td>No</td>\n",
       "    </tr>\n",
       "    <tr>\n",
       "      <th>3</th>\n",
       "      <td>LP001006</td>\n",
       "      <td>Male</td>\n",
       "      <td>Yes</td>\n",
       "      <td>0</td>\n",
       "      <td>Not Graduate</td>\n",
       "      <td>No</td>\n",
       "      <td>2583</td>\n",
       "      <td>2358.0</td>\n",
       "      <td>120.000000</td>\n",
       "      <td>360.0</td>\n",
       "      <td>1.0</td>\n",
       "      <td>Urban</td>\n",
       "      <td>Y</td>\n",
       "      <td>No</td>\n",
       "      <td>No</td>\n",
       "      <td>No</td>\n",
       "      <td>No</td>\n",
       "    </tr>\n",
       "    <tr>\n",
       "      <th>4</th>\n",
       "      <td>LP001008</td>\n",
       "      <td>Male</td>\n",
       "      <td>No</td>\n",
       "      <td>0</td>\n",
       "      <td>Graduate</td>\n",
       "      <td>No</td>\n",
       "      <td>6000</td>\n",
       "      <td>0.0</td>\n",
       "      <td>141.000000</td>\n",
       "      <td>360.0</td>\n",
       "      <td>1.0</td>\n",
       "      <td>Urban</td>\n",
       "      <td>Y</td>\n",
       "      <td>No</td>\n",
       "      <td>No</td>\n",
       "      <td>No</td>\n",
       "      <td>No</td>\n",
       "    </tr>\n",
       "    <tr>\n",
       "      <th>...</th>\n",
       "      <td>...</td>\n",
       "      <td>...</td>\n",
       "      <td>...</td>\n",
       "      <td>...</td>\n",
       "      <td>...</td>\n",
       "      <td>...</td>\n",
       "      <td>...</td>\n",
       "      <td>...</td>\n",
       "      <td>...</td>\n",
       "      <td>...</td>\n",
       "      <td>...</td>\n",
       "      <td>...</td>\n",
       "      <td>...</td>\n",
       "      <td>...</td>\n",
       "      <td>...</td>\n",
       "      <td>...</td>\n",
       "      <td>...</td>\n",
       "    </tr>\n",
       "    <tr>\n",
       "      <th>609</th>\n",
       "      <td>LP002978</td>\n",
       "      <td>Female</td>\n",
       "      <td>No</td>\n",
       "      <td>0</td>\n",
       "      <td>Graduate</td>\n",
       "      <td>No</td>\n",
       "      <td>2900</td>\n",
       "      <td>0.0</td>\n",
       "      <td>71.000000</td>\n",
       "      <td>360.0</td>\n",
       "      <td>1.0</td>\n",
       "      <td>Rural</td>\n",
       "      <td>Y</td>\n",
       "      <td>No</td>\n",
       "      <td>No</td>\n",
       "      <td>No</td>\n",
       "      <td>No</td>\n",
       "    </tr>\n",
       "    <tr>\n",
       "      <th>610</th>\n",
       "      <td>LP002979</td>\n",
       "      <td>Male</td>\n",
       "      <td>Yes</td>\n",
       "      <td>3+</td>\n",
       "      <td>Graduate</td>\n",
       "      <td>No</td>\n",
       "      <td>4106</td>\n",
       "      <td>0.0</td>\n",
       "      <td>40.000000</td>\n",
       "      <td>180.0</td>\n",
       "      <td>1.0</td>\n",
       "      <td>Rural</td>\n",
       "      <td>Y</td>\n",
       "      <td>No</td>\n",
       "      <td>No</td>\n",
       "      <td>No</td>\n",
       "      <td>No</td>\n",
       "    </tr>\n",
       "    <tr>\n",
       "      <th>611</th>\n",
       "      <td>LP002983</td>\n",
       "      <td>Male</td>\n",
       "      <td>Yes</td>\n",
       "      <td>1</td>\n",
       "      <td>Graduate</td>\n",
       "      <td>No</td>\n",
       "      <td>8072</td>\n",
       "      <td>240.0</td>\n",
       "      <td>253.000000</td>\n",
       "      <td>360.0</td>\n",
       "      <td>1.0</td>\n",
       "      <td>Urban</td>\n",
       "      <td>Y</td>\n",
       "      <td>No</td>\n",
       "      <td>No</td>\n",
       "      <td>No</td>\n",
       "      <td>No</td>\n",
       "    </tr>\n",
       "    <tr>\n",
       "      <th>612</th>\n",
       "      <td>LP002984</td>\n",
       "      <td>Male</td>\n",
       "      <td>Yes</td>\n",
       "      <td>2</td>\n",
       "      <td>Graduate</td>\n",
       "      <td>No</td>\n",
       "      <td>7583</td>\n",
       "      <td>0.0</td>\n",
       "      <td>187.000000</td>\n",
       "      <td>360.0</td>\n",
       "      <td>1.0</td>\n",
       "      <td>Urban</td>\n",
       "      <td>Y</td>\n",
       "      <td>No</td>\n",
       "      <td>No</td>\n",
       "      <td>No</td>\n",
       "      <td>No</td>\n",
       "    </tr>\n",
       "    <tr>\n",
       "      <th>613</th>\n",
       "      <td>LP002990</td>\n",
       "      <td>Female</td>\n",
       "      <td>No</td>\n",
       "      <td>0</td>\n",
       "      <td>Graduate</td>\n",
       "      <td>Yes</td>\n",
       "      <td>4583</td>\n",
       "      <td>0.0</td>\n",
       "      <td>133.000000</td>\n",
       "      <td>360.0</td>\n",
       "      <td>0.0</td>\n",
       "      <td>Semiurban</td>\n",
       "      <td>N</td>\n",
       "      <td>No</td>\n",
       "      <td>No</td>\n",
       "      <td>No</td>\n",
       "      <td>No</td>\n",
       "    </tr>\n",
       "  </tbody>\n",
       "</table>\n",
       "<p>614 rows × 17 columns</p>\n",
       "</div>"
      ]
     },
     "execution_count": 125,
     "metadata": {},
     "output_type": "execute_result"
    }
   ],
   "execution_count": 125
  },
  {
   "cell_type": "code",
   "id": "e8c24e7b",
   "metadata": {
    "ExecuteTime": {
     "end_time": "2025-01-09T17:43:33.814453Z",
     "start_time": "2025-01-09T17:43:33.804114Z"
    }
   },
   "source": [
    "# find out were there are outliers\n",
    "loan_no_missing_data_df.ApplicantIncome_is_outlier.value_counts(), loan_no_missing_data_df.CoapplicantIncome_is_outlier.value_counts(), loan_no_missing_data_df.LoanAmount_is_outlier.value_counts(), loan_no_missing_data_df.All_outliers.value_counts()"
   ],
   "outputs": [
    {
     "data": {
      "text/plain": [
       "(ApplicantIncome_is_outlier\n",
       " No     582\n",
       " Yes     32\n",
       " Name: count, dtype: int64,\n",
       " CoapplicantIncome_is_outlier\n",
       " No     596\n",
       " Yes     18\n",
       " Name: count, dtype: int64,\n",
       " LoanAmount_is_outlier\n",
       " No     601\n",
       " Yes     13\n",
       " Name: count, dtype: int64,\n",
       " All_outliers\n",
       " No     613\n",
       " Yes      1\n",
       " Name: count, dtype: int64)"
      ]
     },
     "execution_count": 126,
     "metadata": {},
     "output_type": "execute_result"
    }
   ],
   "execution_count": 126
  },
  {
   "cell_type": "code",
   "id": "31de398b",
   "metadata": {
    "scrolled": true,
    "ExecuteTime": {
     "end_time": "2025-01-09T17:43:35.155321Z",
     "start_time": "2025-01-09T17:43:35.142295Z"
    }
   },
   "source": [
    "# focus on rows were all continuous columns are outliers\n",
    "loan_no_missing_data_df[loan_no_missing_data_df[\"All_outliers\"] == \"Yes\"]"
   ],
   "outputs": [
    {
     "data": {
      "text/plain": [
       "      Loan_ID Gender Married Dependents Education Self_Employed  \\\n",
       "506  LP002624   Male     Yes          0  Graduate            No   \n",
       "\n",
       "     ApplicantIncome  CoapplicantIncome  LoanAmount  Loan_Amount_Term  \\\n",
       "506            20833             6667.0       480.0             360.0   \n",
       "\n",
       "     Credit_History Property_Area Loan_Status ApplicantIncome_is_outlier  \\\n",
       "506             1.0         Urban           Y                        Yes   \n",
       "\n",
       "    CoapplicantIncome_is_outlier LoanAmount_is_outlier All_outliers  \n",
       "506                          Yes                   Yes          Yes  "
      ],
      "text/html": [
       "<div>\n",
       "<style scoped>\n",
       "    .dataframe tbody tr th:only-of-type {\n",
       "        vertical-align: middle;\n",
       "    }\n",
       "\n",
       "    .dataframe tbody tr th {\n",
       "        vertical-align: top;\n",
       "    }\n",
       "\n",
       "    .dataframe thead th {\n",
       "        text-align: right;\n",
       "    }\n",
       "</style>\n",
       "<table border=\"1\" class=\"dataframe\">\n",
       "  <thead>\n",
       "    <tr style=\"text-align: right;\">\n",
       "      <th></th>\n",
       "      <th>Loan_ID</th>\n",
       "      <th>Gender</th>\n",
       "      <th>Married</th>\n",
       "      <th>Dependents</th>\n",
       "      <th>Education</th>\n",
       "      <th>Self_Employed</th>\n",
       "      <th>ApplicantIncome</th>\n",
       "      <th>CoapplicantIncome</th>\n",
       "      <th>LoanAmount</th>\n",
       "      <th>Loan_Amount_Term</th>\n",
       "      <th>Credit_History</th>\n",
       "      <th>Property_Area</th>\n",
       "      <th>Loan_Status</th>\n",
       "      <th>ApplicantIncome_is_outlier</th>\n",
       "      <th>CoapplicantIncome_is_outlier</th>\n",
       "      <th>LoanAmount_is_outlier</th>\n",
       "      <th>All_outliers</th>\n",
       "    </tr>\n",
       "  </thead>\n",
       "  <tbody>\n",
       "    <tr>\n",
       "      <th>506</th>\n",
       "      <td>LP002624</td>\n",
       "      <td>Male</td>\n",
       "      <td>Yes</td>\n",
       "      <td>0</td>\n",
       "      <td>Graduate</td>\n",
       "      <td>No</td>\n",
       "      <td>20833</td>\n",
       "      <td>6667.0</td>\n",
       "      <td>480.0</td>\n",
       "      <td>360.0</td>\n",
       "      <td>1.0</td>\n",
       "      <td>Urban</td>\n",
       "      <td>Y</td>\n",
       "      <td>Yes</td>\n",
       "      <td>Yes</td>\n",
       "      <td>Yes</td>\n",
       "      <td>Yes</td>\n",
       "    </tr>\n",
       "  </tbody>\n",
       "</table>\n",
       "</div>"
      ]
     },
     "execution_count": 127,
     "metadata": {},
     "output_type": "execute_result"
    }
   ],
   "execution_count": 127
  },
  {
   "cell_type": "code",
   "id": "c656e7bd",
   "metadata": {
    "ExecuteTime": {
     "end_time": "2025-01-09T17:43:41.668884Z",
     "start_time": "2025-01-09T17:43:41.659968Z"
    }
   },
   "source": [
    "# Drop the one line where the all continuous features are outlier\n",
    "loan_no_missing_data_df = loan_no_missing_data_df.drop(loan_no_missing_data_df[loan_no_missing_data_df[\"All_outliers\"] == \"Yes\"].index)"
   ],
   "outputs": [],
   "execution_count": 128
  },
  {
   "cell_type": "code",
   "id": "7513801b",
   "metadata": {
    "ExecuteTime": {
     "end_time": "2025-01-09T17:43:42.052017Z",
     "start_time": "2025-01-09T17:43:42.046454Z"
    }
   },
   "source": [
    "loan_no_missing_data_df.shape"
   ],
   "outputs": [
    {
     "data": {
      "text/plain": [
       "(613, 17)"
      ]
     },
     "execution_count": 129,
     "metadata": {},
     "output_type": "execute_result"
    }
   ],
   "execution_count": 129
  },
  {
   "cell_type": "code",
   "id": "3f7d05a8",
   "metadata": {
    "ExecuteTime": {
     "end_time": "2025-01-09T17:43:42.342871Z",
     "start_time": "2025-01-09T17:43:42.336396Z"
    }
   },
   "source": [
    "# remove the Loan ID, as it does not give additional information to our data, also remove the new outlier columns add as these are no longer needed\n",
    "loan_no_missing_data_df.drop(columns=[\"Loan_ID\", \"All_outliers\", \"ApplicantIncome_is_outlier\", \"CoapplicantIncome_is_outlier\", \"LoanAmount_is_outlier\"], inplace=True)"
   ],
   "outputs": [],
   "execution_count": 130
  },
  {
   "cell_type": "code",
   "id": "4fabf34a",
   "metadata": {
    "ExecuteTime": {
     "end_time": "2025-01-09T17:43:42.645172Z",
     "start_time": "2025-01-09T17:43:42.639751Z"
    }
   },
   "source": [
    "# combine the Applicant and co-applicant income as one to create a new `TotalIncome`\n",
    "loan_no_missing_data_df['TotalIncome'] = loan_no_missing_data_df['ApplicantIncome'] + loan_no_missing_data_df['CoapplicantIncome']"
   ],
   "outputs": [],
   "execution_count": 131
  },
  {
   "cell_type": "code",
   "id": "9c098b2a",
   "metadata": {
    "ExecuteTime": {
     "end_time": "2025-01-09T17:43:42.975029Z",
     "start_time": "2025-01-09T17:43:42.954631Z"
    }
   },
   "source": [
    "loan_no_missing_data_df"
   ],
   "outputs": [
    {
     "data": {
      "text/plain": [
       "     Gender Married Dependents     Education Self_Employed  ApplicantIncome  \\\n",
       "0      Male      No          0      Graduate            No             5849   \n",
       "1      Male     Yes          1      Graduate            No             4583   \n",
       "2      Male     Yes          0      Graduate           Yes             3000   \n",
       "3      Male     Yes          0  Not Graduate            No             2583   \n",
       "4      Male      No          0      Graduate            No             6000   \n",
       "..      ...     ...        ...           ...           ...              ...   \n",
       "609  Female      No          0      Graduate            No             2900   \n",
       "610    Male     Yes         3+      Graduate            No             4106   \n",
       "611    Male     Yes          1      Graduate            No             8072   \n",
       "612    Male     Yes          2      Graduate            No             7583   \n",
       "613  Female      No          0      Graduate           Yes             4583   \n",
       "\n",
       "     CoapplicantIncome  LoanAmount  Loan_Amount_Term  Credit_History  \\\n",
       "0                  0.0  146.412162             360.0             1.0   \n",
       "1               1508.0  128.000000             360.0             1.0   \n",
       "2                  0.0   66.000000             360.0             1.0   \n",
       "3               2358.0  120.000000             360.0             1.0   \n",
       "4                  0.0  141.000000             360.0             1.0   \n",
       "..                 ...         ...               ...             ...   \n",
       "609                0.0   71.000000             360.0             1.0   \n",
       "610                0.0   40.000000             180.0             1.0   \n",
       "611              240.0  253.000000             360.0             1.0   \n",
       "612                0.0  187.000000             360.0             1.0   \n",
       "613                0.0  133.000000             360.0             0.0   \n",
       "\n",
       "    Property_Area Loan_Status  TotalIncome  \n",
       "0           Urban           Y       5849.0  \n",
       "1           Rural           N       6091.0  \n",
       "2           Urban           Y       3000.0  \n",
       "3           Urban           Y       4941.0  \n",
       "4           Urban           Y       6000.0  \n",
       "..            ...         ...          ...  \n",
       "609         Rural           Y       2900.0  \n",
       "610         Rural           Y       4106.0  \n",
       "611         Urban           Y       8312.0  \n",
       "612         Urban           Y       7583.0  \n",
       "613     Semiurban           N       4583.0  \n",
       "\n",
       "[613 rows x 13 columns]"
      ],
      "text/html": [
       "<div>\n",
       "<style scoped>\n",
       "    .dataframe tbody tr th:only-of-type {\n",
       "        vertical-align: middle;\n",
       "    }\n",
       "\n",
       "    .dataframe tbody tr th {\n",
       "        vertical-align: top;\n",
       "    }\n",
       "\n",
       "    .dataframe thead th {\n",
       "        text-align: right;\n",
       "    }\n",
       "</style>\n",
       "<table border=\"1\" class=\"dataframe\">\n",
       "  <thead>\n",
       "    <tr style=\"text-align: right;\">\n",
       "      <th></th>\n",
       "      <th>Gender</th>\n",
       "      <th>Married</th>\n",
       "      <th>Dependents</th>\n",
       "      <th>Education</th>\n",
       "      <th>Self_Employed</th>\n",
       "      <th>ApplicantIncome</th>\n",
       "      <th>CoapplicantIncome</th>\n",
       "      <th>LoanAmount</th>\n",
       "      <th>Loan_Amount_Term</th>\n",
       "      <th>Credit_History</th>\n",
       "      <th>Property_Area</th>\n",
       "      <th>Loan_Status</th>\n",
       "      <th>TotalIncome</th>\n",
       "    </tr>\n",
       "  </thead>\n",
       "  <tbody>\n",
       "    <tr>\n",
       "      <th>0</th>\n",
       "      <td>Male</td>\n",
       "      <td>No</td>\n",
       "      <td>0</td>\n",
       "      <td>Graduate</td>\n",
       "      <td>No</td>\n",
       "      <td>5849</td>\n",
       "      <td>0.0</td>\n",
       "      <td>146.412162</td>\n",
       "      <td>360.0</td>\n",
       "      <td>1.0</td>\n",
       "      <td>Urban</td>\n",
       "      <td>Y</td>\n",
       "      <td>5849.0</td>\n",
       "    </tr>\n",
       "    <tr>\n",
       "      <th>1</th>\n",
       "      <td>Male</td>\n",
       "      <td>Yes</td>\n",
       "      <td>1</td>\n",
       "      <td>Graduate</td>\n",
       "      <td>No</td>\n",
       "      <td>4583</td>\n",
       "      <td>1508.0</td>\n",
       "      <td>128.000000</td>\n",
       "      <td>360.0</td>\n",
       "      <td>1.0</td>\n",
       "      <td>Rural</td>\n",
       "      <td>N</td>\n",
       "      <td>6091.0</td>\n",
       "    </tr>\n",
       "    <tr>\n",
       "      <th>2</th>\n",
       "      <td>Male</td>\n",
       "      <td>Yes</td>\n",
       "      <td>0</td>\n",
       "      <td>Graduate</td>\n",
       "      <td>Yes</td>\n",
       "      <td>3000</td>\n",
       "      <td>0.0</td>\n",
       "      <td>66.000000</td>\n",
       "      <td>360.0</td>\n",
       "      <td>1.0</td>\n",
       "      <td>Urban</td>\n",
       "      <td>Y</td>\n",
       "      <td>3000.0</td>\n",
       "    </tr>\n",
       "    <tr>\n",
       "      <th>3</th>\n",
       "      <td>Male</td>\n",
       "      <td>Yes</td>\n",
       "      <td>0</td>\n",
       "      <td>Not Graduate</td>\n",
       "      <td>No</td>\n",
       "      <td>2583</td>\n",
       "      <td>2358.0</td>\n",
       "      <td>120.000000</td>\n",
       "      <td>360.0</td>\n",
       "      <td>1.0</td>\n",
       "      <td>Urban</td>\n",
       "      <td>Y</td>\n",
       "      <td>4941.0</td>\n",
       "    </tr>\n",
       "    <tr>\n",
       "      <th>4</th>\n",
       "      <td>Male</td>\n",
       "      <td>No</td>\n",
       "      <td>0</td>\n",
       "      <td>Graduate</td>\n",
       "      <td>No</td>\n",
       "      <td>6000</td>\n",
       "      <td>0.0</td>\n",
       "      <td>141.000000</td>\n",
       "      <td>360.0</td>\n",
       "      <td>1.0</td>\n",
       "      <td>Urban</td>\n",
       "      <td>Y</td>\n",
       "      <td>6000.0</td>\n",
       "    </tr>\n",
       "    <tr>\n",
       "      <th>...</th>\n",
       "      <td>...</td>\n",
       "      <td>...</td>\n",
       "      <td>...</td>\n",
       "      <td>...</td>\n",
       "      <td>...</td>\n",
       "      <td>...</td>\n",
       "      <td>...</td>\n",
       "      <td>...</td>\n",
       "      <td>...</td>\n",
       "      <td>...</td>\n",
       "      <td>...</td>\n",
       "      <td>...</td>\n",
       "      <td>...</td>\n",
       "    </tr>\n",
       "    <tr>\n",
       "      <th>609</th>\n",
       "      <td>Female</td>\n",
       "      <td>No</td>\n",
       "      <td>0</td>\n",
       "      <td>Graduate</td>\n",
       "      <td>No</td>\n",
       "      <td>2900</td>\n",
       "      <td>0.0</td>\n",
       "      <td>71.000000</td>\n",
       "      <td>360.0</td>\n",
       "      <td>1.0</td>\n",
       "      <td>Rural</td>\n",
       "      <td>Y</td>\n",
       "      <td>2900.0</td>\n",
       "    </tr>\n",
       "    <tr>\n",
       "      <th>610</th>\n",
       "      <td>Male</td>\n",
       "      <td>Yes</td>\n",
       "      <td>3+</td>\n",
       "      <td>Graduate</td>\n",
       "      <td>No</td>\n",
       "      <td>4106</td>\n",
       "      <td>0.0</td>\n",
       "      <td>40.000000</td>\n",
       "      <td>180.0</td>\n",
       "      <td>1.0</td>\n",
       "      <td>Rural</td>\n",
       "      <td>Y</td>\n",
       "      <td>4106.0</td>\n",
       "    </tr>\n",
       "    <tr>\n",
       "      <th>611</th>\n",
       "      <td>Male</td>\n",
       "      <td>Yes</td>\n",
       "      <td>1</td>\n",
       "      <td>Graduate</td>\n",
       "      <td>No</td>\n",
       "      <td>8072</td>\n",
       "      <td>240.0</td>\n",
       "      <td>253.000000</td>\n",
       "      <td>360.0</td>\n",
       "      <td>1.0</td>\n",
       "      <td>Urban</td>\n",
       "      <td>Y</td>\n",
       "      <td>8312.0</td>\n",
       "    </tr>\n",
       "    <tr>\n",
       "      <th>612</th>\n",
       "      <td>Male</td>\n",
       "      <td>Yes</td>\n",
       "      <td>2</td>\n",
       "      <td>Graduate</td>\n",
       "      <td>No</td>\n",
       "      <td>7583</td>\n",
       "      <td>0.0</td>\n",
       "      <td>187.000000</td>\n",
       "      <td>360.0</td>\n",
       "      <td>1.0</td>\n",
       "      <td>Urban</td>\n",
       "      <td>Y</td>\n",
       "      <td>7583.0</td>\n",
       "    </tr>\n",
       "    <tr>\n",
       "      <th>613</th>\n",
       "      <td>Female</td>\n",
       "      <td>No</td>\n",
       "      <td>0</td>\n",
       "      <td>Graduate</td>\n",
       "      <td>Yes</td>\n",
       "      <td>4583</td>\n",
       "      <td>0.0</td>\n",
       "      <td>133.000000</td>\n",
       "      <td>360.0</td>\n",
       "      <td>0.0</td>\n",
       "      <td>Semiurban</td>\n",
       "      <td>N</td>\n",
       "      <td>4583.0</td>\n",
       "    </tr>\n",
       "  </tbody>\n",
       "</table>\n",
       "<p>613 rows × 13 columns</p>\n",
       "</div>"
      ]
     },
     "execution_count": 132,
     "metadata": {},
     "output_type": "execute_result"
    }
   ],
   "execution_count": 132
  },
  {
   "cell_type": "markdown",
   "id": "34b1a1d6",
   "metadata": {},
   "source": [
    "## Graphical analysis of features that are continuous "
   ]
  },
  {
   "cell_type": "code",
   "id": "1131c437",
   "metadata": {
    "scrolled": true,
    "ExecuteTime": {
     "end_time": "2025-01-09T17:43:44.974003Z",
     "start_time": "2025-01-09T17:43:44.086836Z"
    }
   },
   "source": [
    "# Create a 2x2 grid of subplots\n",
    "fig, axes = plt.subplots(2, 2, figsize=(15, 10))\n",
    "\n",
    "axes[0,0].set_title(\"ApplicantIncome\")\n",
    "sns.histplot(loan_no_missing_data_df['ApplicantIncome'], color=\"blue\", kde=True,\n",
    "    stat=\"density\",ax=axes[0,0]);\n",
    "\n",
    "axes[0,1].set_title(\"CoapplicantIncome\")\n",
    "sns.histplot(loan_no_missing_data_df['CoapplicantIncome'], color=\"blue\", kde=True,\n",
    "    stat=\"density\",ax=axes[0,1]);\n",
    "\n",
    "axes[1,0].set_title(\"TotalIncome\")\n",
    "sns.histplot(loan_no_missing_data_df['TotalIncome'], color=\"blue\", kde=True,\n",
    "             stat=\"density\",ax=axes[1,0])\n",
    "\n",
    "axes[1,1].set_title('LoanAmount');\n",
    "sns.histplot(loan_no_missing_data_df['LoanAmount'], color=\"blue\", kde=True,\n",
    "    stat=\"density\",ax=axes[1,1]);\n",
    "plt.style.use(\"seaborn-v0_8\")"
   ],
   "outputs": [
    {
     "data": {
      "text/plain": [
       "<Figure size 1500x1000 with 4 Axes>"
      ],
      "image/png": "[encoded data removed]"
     },
     "metadata": {},
     "output_type": "display_data"
    }
   ],
   "execution_count": 133
  },
  {
   "cell_type": "code",
   "id": "2608b082",
   "metadata": {
    "ExecuteTime": {
     "end_time": "2025-01-09T17:43:44.981416Z",
     "start_time": "2025-01-09T17:43:44.976008Z"
    }
   },
   "source": [
    "# Create table for just features that are continuous \n",
    "loan_no_missing_data_cf =  loan_no_missing_data_df[['ApplicantIncome','CoapplicantIncome', 'LoanAmount', 'TotalIncome']].copy()"
   ],
   "outputs": [],
   "execution_count": 134
  },
  {
   "cell_type": "code",
   "id": "534bdb76",
   "metadata": {
    "scrolled": true,
    "ExecuteTime": {
     "end_time": "2025-01-09T17:43:44.987917Z",
     "start_time": "2025-01-09T17:43:44.982434Z"
    }
   },
   "source": [
    "corr = loan_no_missing_data_cf.corr()"
   ],
   "outputs": [],
   "execution_count": 135
  },
  {
   "cell_type": "code",
   "id": "87854589",
   "metadata": {
    "ExecuteTime": {
     "end_time": "2025-01-09T17:43:45.835122Z",
     "start_time": "2025-01-09T17:43:45.523444Z"
    }
   },
   "source": [
    "# see the correlation heatmap\n",
    "plt.figure(figsize=(10,5))\n",
    "sns.heatmap(corr, annot = True, cmap = \"BuPu\");"
   ],
   "outputs": [
    {
     "data": {
      "text/plain": [
       "<Figure size 1000x500 with 2 Axes>"
      ],
      "image/png": "[encoded data removed]"
     },
     "metadata": {},
     "output_type": "display_data"
    }
   ],
   "execution_count": 136
  },
  {
   "cell_type": "code",
   "id": "26127b1b",
   "metadata": {
    "ExecuteTime": {
     "end_time": "2025-01-09T17:43:45.855167Z",
     "start_time": "2025-01-09T17:43:45.837132Z"
    }
   },
   "source": [
    "# Drop \"ApplicantIncome\" and \"CoapplicantIncome\" columns now we have a column that sums them together \n",
    "loan_no_missing_data_df.drop(columns=['ApplicantIncome','CoapplicantIncome'], inplace=True)\n",
    "loan_no_missing_data_df.head()"
   ],
   "outputs": [
    {
     "data": {
      "text/plain": [
       "  Gender Married Dependents     Education Self_Employed  LoanAmount  \\\n",
       "0   Male      No          0      Graduate            No  146.412162   \n",
       "1   Male     Yes          1      Graduate            No  128.000000   \n",
       "2   Male     Yes          0      Graduate           Yes   66.000000   \n",
       "3   Male     Yes          0  Not Graduate            No  120.000000   \n",
       "4   Male      No          0      Graduate            No  141.000000   \n",
       "\n",
       "   Loan_Amount_Term  Credit_History Property_Area Loan_Status  TotalIncome  \n",
       "0             360.0             1.0         Urban           Y       5849.0  \n",
       "1             360.0             1.0         Rural           N       6091.0  \n",
       "2             360.0             1.0         Urban           Y       3000.0  \n",
       "3             360.0             1.0         Urban           Y       4941.0  \n",
       "4             360.0             1.0         Urban           Y       6000.0  "
      ],
      "text/html": [
       "<div>\n",
       "<style scoped>\n",
       "    .dataframe tbody tr th:only-of-type {\n",
       "        vertical-align: middle;\n",
       "    }\n",
       "\n",
       "    .dataframe tbody tr th {\n",
       "        vertical-align: top;\n",
       "    }\n",
       "\n",
       "    .dataframe thead th {\n",
       "        text-align: right;\n",
       "    }\n",
       "</style>\n",
       "<table border=\"1\" class=\"dataframe\">\n",
       "  <thead>\n",
       "    <tr style=\"text-align: right;\">\n",
       "      <th></th>\n",
       "      <th>Gender</th>\n",
       "      <th>Married</th>\n",
       "      <th>Dependents</th>\n",
       "      <th>Education</th>\n",
       "      <th>Self_Employed</th>\n",
       "      <th>LoanAmount</th>\n",
       "      <th>Loan_Amount_Term</th>\n",
       "      <th>Credit_History</th>\n",
       "      <th>Property_Area</th>\n",
       "      <th>Loan_Status</th>\n",
       "      <th>TotalIncome</th>\n",
       "    </tr>\n",
       "  </thead>\n",
       "  <tbody>\n",
       "    <tr>\n",
       "      <th>0</th>\n",
       "      <td>Male</td>\n",
       "      <td>No</td>\n",
       "      <td>0</td>\n",
       "      <td>Graduate</td>\n",
       "      <td>No</td>\n",
       "      <td>146.412162</td>\n",
       "      <td>360.0</td>\n",
       "      <td>1.0</td>\n",
       "      <td>Urban</td>\n",
       "      <td>Y</td>\n",
       "      <td>5849.0</td>\n",
       "    </tr>\n",
       "    <tr>\n",
       "      <th>1</th>\n",
       "      <td>Male</td>\n",
       "      <td>Yes</td>\n",
       "      <td>1</td>\n",
       "      <td>Graduate</td>\n",
       "      <td>No</td>\n",
       "      <td>128.000000</td>\n",
       "      <td>360.0</td>\n",
       "      <td>1.0</td>\n",
       "      <td>Rural</td>\n",
       "      <td>N</td>\n",
       "      <td>6091.0</td>\n",
       "    </tr>\n",
       "    <tr>\n",
       "      <th>2</th>\n",
       "      <td>Male</td>\n",
       "      <td>Yes</td>\n",
       "      <td>0</td>\n",
       "      <td>Graduate</td>\n",
       "      <td>Yes</td>\n",
       "      <td>66.000000</td>\n",
       "      <td>360.0</td>\n",
       "      <td>1.0</td>\n",
       "      <td>Urban</td>\n",
       "      <td>Y</td>\n",
       "      <td>3000.0</td>\n",
       "    </tr>\n",
       "    <tr>\n",
       "      <th>3</th>\n",
       "      <td>Male</td>\n",
       "      <td>Yes</td>\n",
       "      <td>0</td>\n",
       "      <td>Not Graduate</td>\n",
       "      <td>No</td>\n",
       "      <td>120.000000</td>\n",
       "      <td>360.0</td>\n",
       "      <td>1.0</td>\n",
       "      <td>Urban</td>\n",
       "      <td>Y</td>\n",
       "      <td>4941.0</td>\n",
       "    </tr>\n",
       "    <tr>\n",
       "      <th>4</th>\n",
       "      <td>Male</td>\n",
       "      <td>No</td>\n",
       "      <td>0</td>\n",
       "      <td>Graduate</td>\n",
       "      <td>No</td>\n",
       "      <td>141.000000</td>\n",
       "      <td>360.0</td>\n",
       "      <td>1.0</td>\n",
       "      <td>Urban</td>\n",
       "      <td>Y</td>\n",
       "      <td>6000.0</td>\n",
       "    </tr>\n",
       "  </tbody>\n",
       "</table>\n",
       "</div>"
      ]
     },
     "execution_count": 137,
     "metadata": {},
     "output_type": "execute_result"
    }
   ],
   "execution_count": 137
  },
  {
   "cell_type": "code",
   "id": "6e82765d",
   "metadata": {
    "ExecuteTime": {
     "end_time": "2025-01-09T17:43:48.637742Z",
     "start_time": "2025-01-09T17:43:48.101113Z"
    }
   },
   "source": [
    "# histogram and density curve to show the distributions for both continuous coloumns(TotalIncome & LoanAmount)\n",
    "fig, axes = plt.subplots(1, 2, figsize=(15, 4))\n",
    "axes[0].set_title(\"TotalIncome\")\n",
    "sns.histplot(loan_no_missing_data_df['TotalIncome'], color=\"blue\", kde=True,\n",
    "    stat=\"density\",ax=axes[0]);\n",
    "\n",
    "axes[1].set_title(\"LoanAmount\")\n",
    "sns.histplot(loan_no_missing_data_df['LoanAmount'], color=\"blue\", kde=True,\n",
    "    stat=\"density\",ax=axes[1]);\n",
    "\n",
    "plt.style.use(\"seaborn-v0_8\")"
   ],
   "outputs": [
    {
     "data": {
      "text/plain": [
       "<Figure size 1500x400 with 2 Axes>"
      ],
      "image/png": "[encoded data removed]"
     },
     "metadata": {},
     "output_type": "display_data"
    }
   ],
   "execution_count": 138
  },
  {
   "cell_type": "markdown",
   "id": "0f55cce3",
   "metadata": {},
   "source": [
    "## Feature Scaling"
   ]
  },
  {
   "cell_type": "code",
   "id": "4447aaaa",
   "metadata": {
    "ExecuteTime": {
     "end_time": "2025-01-09T17:43:51.674287Z",
     "start_time": "2025-01-09T17:43:51.628572Z"
    }
   },
   "source": [
    "# Apply normalisation to LoanAmount column\n",
    "loan_no_missing_data_df[\"LoanAmount\"] = loan_no_missing_data_df[\"LoanAmount\"].apply(lambda x: (x + loan_no_missing_data_df[\"LoanAmount\"].min())/(loan_no_missing_data_df[\"LoanAmount\"].max() - loan_no_missing_data_df[\"LoanAmount\"].min()))"
   ],
   "outputs": [],
   "execution_count": 139
  },
  {
   "cell_type": "code",
   "id": "631b9dcf",
   "metadata": {
    "ExecuteTime": {
     "end_time": "2025-01-09T17:43:52.024569Z",
     "start_time": "2025-01-09T17:43:51.981715Z"
    }
   },
   "source": [
    "# Apply normalisation to TotalIcome column\n",
    "loan_no_missing_data_df[\"TotalIncome\"] = loan_no_missing_data_df[\"TotalIncome\"].apply(lambda x: (x + loan_no_missing_data_df[\"TotalIncome\"].min())/(loan_no_missing_data_df[\"TotalIncome\"].max() - loan_no_missing_data_df[\"TotalIncome\"].min()))"
   ],
   "outputs": [],
   "execution_count": 140
  },
  {
   "cell_type": "code",
   "id": "184daa36",
   "metadata": {
    "ExecuteTime": {
     "end_time": "2025-01-09T17:43:52.446761Z",
     "start_time": "2025-01-09T17:43:52.436406Z"
    }
   },
   "source": [
    "# lets see what this two continuous column looks like after transformation\n",
    "loan_no_missing_data_df[[\"LoanAmount\",\"TotalIncome\"]].head()"
   ],
   "outputs": [
    {
     "data": {
      "text/plain": [
       "   LoanAmount  TotalIncome\n",
       "0    0.224909     0.091644\n",
       "1    0.198263     0.094686\n",
       "2    0.108538     0.055833\n",
       "3    0.186686     0.080231\n",
       "4    0.217077     0.093542"
      ],
      "text/html": [
       "<div>\n",
       "<style scoped>\n",
       "    .dataframe tbody tr th:only-of-type {\n",
       "        vertical-align: middle;\n",
       "    }\n",
       "\n",
       "    .dataframe tbody tr th {\n",
       "        vertical-align: top;\n",
       "    }\n",
       "\n",
       "    .dataframe thead th {\n",
       "        text-align: right;\n",
       "    }\n",
       "</style>\n",
       "<table border=\"1\" class=\"dataframe\">\n",
       "  <thead>\n",
       "    <tr style=\"text-align: right;\">\n",
       "      <th></th>\n",
       "      <th>LoanAmount</th>\n",
       "      <th>TotalIncome</th>\n",
       "    </tr>\n",
       "  </thead>\n",
       "  <tbody>\n",
       "    <tr>\n",
       "      <th>0</th>\n",
       "      <td>0.224909</td>\n",
       "      <td>0.091644</td>\n",
       "    </tr>\n",
       "    <tr>\n",
       "      <th>1</th>\n",
       "      <td>0.198263</td>\n",
       "      <td>0.094686</td>\n",
       "    </tr>\n",
       "    <tr>\n",
       "      <th>2</th>\n",
       "      <td>0.108538</td>\n",
       "      <td>0.055833</td>\n",
       "    </tr>\n",
       "    <tr>\n",
       "      <th>3</th>\n",
       "      <td>0.186686</td>\n",
       "      <td>0.080231</td>\n",
       "    </tr>\n",
       "    <tr>\n",
       "      <th>4</th>\n",
       "      <td>0.217077</td>\n",
       "      <td>0.093542</td>\n",
       "    </tr>\n",
       "  </tbody>\n",
       "</table>\n",
       "</div>"
      ]
     },
     "execution_count": 141,
     "metadata": {},
     "output_type": "execute_result"
    }
   ],
   "execution_count": 141
  },
  {
   "cell_type": "markdown",
   "id": "e8250ed6",
   "metadata": {},
   "source": [
    "## Data Transformation"
   ]
  },
  {
   "metadata": {
    "ExecuteTime": {
     "end_time": "2025-01-09T17:43:53.120174Z",
     "start_time": "2025-01-09T17:43:53.103469Z"
    }
   },
   "cell_type": "code",
   "source": "loan_no_missing_data_df",
   "id": "289891e83b52d8ce",
   "outputs": [
    {
     "data": {
      "text/plain": [
       "     Gender Married Dependents     Education Self_Employed  LoanAmount  \\\n",
       "0      Male      No          0      Graduate            No    0.224909   \n",
       "1      Male     Yes          1      Graduate            No    0.198263   \n",
       "2      Male     Yes          0      Graduate           Yes    0.108538   \n",
       "3      Male     Yes          0  Not Graduate            No    0.186686   \n",
       "4      Male      No          0      Graduate            No    0.217077   \n",
       "..      ...     ...        ...           ...           ...         ...   \n",
       "609  Female      No          0      Graduate            No    0.115774   \n",
       "610    Male     Yes         3+      Graduate            No    0.070912   \n",
       "611    Male     Yes          1      Graduate            No    0.379161   \n",
       "612    Male     Yes          2      Graduate            No    0.283647   \n",
       "613  Female      No          0      Graduate           Yes    0.205499   \n",
       "\n",
       "     Loan_Amount_Term  Credit_History Property_Area Loan_Status  TotalIncome  \n",
       "0               360.0             1.0         Urban           Y     0.091644  \n",
       "1               360.0             1.0         Rural           N     0.094686  \n",
       "2               360.0             1.0         Urban           Y     0.055833  \n",
       "3               360.0             1.0         Urban           Y     0.080231  \n",
       "4               360.0             1.0         Urban           Y     0.093542  \n",
       "..                ...             ...           ...         ...          ...  \n",
       "609             360.0             1.0         Rural           Y     0.054577  \n",
       "610             180.0             1.0         Rural           Y     0.069735  \n",
       "611             360.0             1.0         Urban           Y     0.122602  \n",
       "612             360.0             1.0         Urban           Y     0.113439  \n",
       "613             360.0             0.0     Semiurban           N     0.075731  \n",
       "\n",
       "[613 rows x 11 columns]"
      ],
      "text/html": [
       "<div>\n",
       "<style scoped>\n",
       "    .dataframe tbody tr th:only-of-type {\n",
       "        vertical-align: middle;\n",
       "    }\n",
       "\n",
       "    .dataframe tbody tr th {\n",
       "        vertical-align: top;\n",
       "    }\n",
       "\n",
       "    .dataframe thead th {\n",
       "        text-align: right;\n",
       "    }\n",
       "</style>\n",
       "<table border=\"1\" class=\"dataframe\">\n",
       "  <thead>\n",
       "    <tr style=\"text-align: right;\">\n",
       "      <th></th>\n",
       "      <th>Gender</th>\n",
       "      <th>Married</th>\n",
       "      <th>Dependents</th>\n",
       "      <th>Education</th>\n",
       "      <th>Self_Employed</th>\n",
       "      <th>LoanAmount</th>\n",
       "      <th>Loan_Amount_Term</th>\n",
       "      <th>Credit_History</th>\n",
       "      <th>Property_Area</th>\n",
       "      <th>Loan_Status</th>\n",
       "      <th>TotalIncome</th>\n",
       "    </tr>\n",
       "  </thead>\n",
       "  <tbody>\n",
       "    <tr>\n",
       "      <th>0</th>\n",
       "      <td>Male</td>\n",
       "      <td>No</td>\n",
       "      <td>0</td>\n",
       "      <td>Graduate</td>\n",
       "      <td>No</td>\n",
       "      <td>0.224909</td>\n",
       "      <td>360.0</td>\n",
       "      <td>1.0</td>\n",
       "      <td>Urban</td>\n",
       "      <td>Y</td>\n",
       "      <td>0.091644</td>\n",
       "    </tr>\n",
       "    <tr>\n",
       "      <th>1</th>\n",
       "      <td>Male</td>\n",
       "      <td>Yes</td>\n",
       "      <td>1</td>\n",
       "      <td>Graduate</td>\n",
       "      <td>No</td>\n",
       "      <td>0.198263</td>\n",
       "      <td>360.0</td>\n",
       "      <td>1.0</td>\n",
       "      <td>Rural</td>\n",
       "      <td>N</td>\n",
       "      <td>0.094686</td>\n",
       "    </tr>\n",
       "    <tr>\n",
       "      <th>2</th>\n",
       "      <td>Male</td>\n",
       "      <td>Yes</td>\n",
       "      <td>0</td>\n",
       "      <td>Graduate</td>\n",
       "      <td>Yes</td>\n",
       "      <td>0.108538</td>\n",
       "      <td>360.0</td>\n",
       "      <td>1.0</td>\n",
       "      <td>Urban</td>\n",
       "      <td>Y</td>\n",
       "      <td>0.055833</td>\n",
       "    </tr>\n",
       "    <tr>\n",
       "      <th>3</th>\n",
       "      <td>Male</td>\n",
       "      <td>Yes</td>\n",
       "      <td>0</td>\n",
       "      <td>Not Graduate</td>\n",
       "      <td>No</td>\n",
       "      <td>0.186686</td>\n",
       "      <td>360.0</td>\n",
       "      <td>1.0</td>\n",
       "      <td>Urban</td>\n",
       "      <td>Y</td>\n",
       "      <td>0.080231</td>\n",
       "    </tr>\n",
       "    <tr>\n",
       "      <th>4</th>\n",
       "      <td>Male</td>\n",
       "      <td>No</td>\n",
       "      <td>0</td>\n",
       "      <td>Graduate</td>\n",
       "      <td>No</td>\n",
       "      <td>0.217077</td>\n",
       "      <td>360.0</td>\n",
       "      <td>1.0</td>\n",
       "      <td>Urban</td>\n",
       "      <td>Y</td>\n",
       "      <td>0.093542</td>\n",
       "    </tr>\n",
       "    <tr>\n",
       "      <th>...</th>\n",
       "      <td>...</td>\n",
       "      <td>...</td>\n",
       "      <td>...</td>\n",
       "      <td>...</td>\n",
       "      <td>...</td>\n",
       "      <td>...</td>\n",
       "      <td>...</td>\n",
       "      <td>...</td>\n",
       "      <td>...</td>\n",
       "      <td>...</td>\n",
       "      <td>...</td>\n",
       "    </tr>\n",
       "    <tr>\n",
       "      <th>609</th>\n",
       "      <td>Female</td>\n",
       "      <td>No</td>\n",
       "      <td>0</td>\n",
       "      <td>Graduate</td>\n",
       "      <td>No</td>\n",
       "      <td>0.115774</td>\n",
       "      <td>360.0</td>\n",
       "      <td>1.0</td>\n",
       "      <td>Rural</td>\n",
       "      <td>Y</td>\n",
       "      <td>0.054577</td>\n",
       "    </tr>\n",
       "    <tr>\n",
       "      <th>610</th>\n",
       "      <td>Male</td>\n",
       "      <td>Yes</td>\n",
       "      <td>3+</td>\n",
       "      <td>Graduate</td>\n",
       "      <td>No</td>\n",
       "      <td>0.070912</td>\n",
       "      <td>180.0</td>\n",
       "      <td>1.0</td>\n",
       "      <td>Rural</td>\n",
       "      <td>Y</td>\n",
       "      <td>0.069735</td>\n",
       "    </tr>\n",
       "    <tr>\n",
       "      <th>611</th>\n",
       "      <td>Male</td>\n",
       "      <td>Yes</td>\n",
       "      <td>1</td>\n",
       "      <td>Graduate</td>\n",
       "      <td>No</td>\n",
       "      <td>0.379161</td>\n",
       "      <td>360.0</td>\n",
       "      <td>1.0</td>\n",
       "      <td>Urban</td>\n",
       "      <td>Y</td>\n",
       "      <td>0.122602</td>\n",
       "    </tr>\n",
       "    <tr>\n",
       "      <th>612</th>\n",
       "      <td>Male</td>\n",
       "      <td>Yes</td>\n",
       "      <td>2</td>\n",
       "      <td>Graduate</td>\n",
       "      <td>No</td>\n",
       "      <td>0.283647</td>\n",
       "      <td>360.0</td>\n",
       "      <td>1.0</td>\n",
       "      <td>Urban</td>\n",
       "      <td>Y</td>\n",
       "      <td>0.113439</td>\n",
       "    </tr>\n",
       "    <tr>\n",
       "      <th>613</th>\n",
       "      <td>Female</td>\n",
       "      <td>No</td>\n",
       "      <td>0</td>\n",
       "      <td>Graduate</td>\n",
       "      <td>Yes</td>\n",
       "      <td>0.205499</td>\n",
       "      <td>360.0</td>\n",
       "      <td>0.0</td>\n",
       "      <td>Semiurban</td>\n",
       "      <td>N</td>\n",
       "      <td>0.075731</td>\n",
       "    </tr>\n",
       "  </tbody>\n",
       "</table>\n",
       "<p>613 rows × 11 columns</p>\n",
       "</div>"
      ]
     },
     "execution_count": 142,
     "metadata": {},
     "output_type": "execute_result"
    }
   ],
   "execution_count": 142
  },
  {
   "cell_type": "code",
   "id": "c847e22b",
   "metadata": {
    "ExecuteTime": {
     "end_time": "2025-01-09T17:43:53.549409Z",
     "start_time": "2025-01-09T17:43:53.419618Z"
    }
   },
   "source": [
    "# Adjust skewness for both continuous coloumns above using logrithm,redraw graph\n",
    "loan_no_missing_data_df['TotalIncome'] = np.log(loan_no_missing_data_df['TotalIncome'])\n",
    "loan_no_missing_data_df['LoanAmount'] = np.log(loan_no_missing_data_df['LoanAmount'])\n",
    "# fig, axes = plt.subplots(1, 2, figsize=(15, 4))\n",
    "axes[0].set_title(\"TotalIncome\")\n",
    "sns.histplot(loan_no_missing_data_df['TotalIncome'], color=\"blue\", kde=True,\n",
    "    stat=\"density\",ax=axes[0]);\n",
    "\n",
    "axes[1].set_title(\"LoanAmount\")\n",
    "sns.histplot(loan_no_missing_data_df['LoanAmount'], color=\"blue\", kde=True,\n",
    "    stat=\"density\",ax=axes[1]);\n",
    "\n",
    "plt.style.use(\"seaborn-v0_8\")"
   ],
   "outputs": [],
   "execution_count": 143
  },
  {
   "cell_type": "code",
   "id": "29a16bb6",
   "metadata": {
    "ExecuteTime": {
     "end_time": "2025-01-09T17:43:55.096297Z",
     "start_time": "2025-01-09T17:43:54.705718Z"
    }
   },
   "source": [
    "# plot 'TotalIncome' and 'LoanAmount'\n",
    "fig, axes = plt.subplots(1, 2, figsize=(15, 4))\n",
    "axes[0].set_title(\"TotalIncome\")\n",
    "sns.histplot(loan_no_missing_data_df['TotalIncome'], color=\"blue\", kde=True,\n",
    "    stat=\"density\",ax=axes[0])\n",
    "\n",
    "axes[1].set_title(\"LoanAmount\")\n",
    "sns.histplot(loan_no_missing_data_df['LoanAmount'], color=\"blue\", kde=True,\n",
    "    stat=\"density\",ax=axes[1]);"
   ],
   "outputs": [
    {
     "data": {
      "text/plain": [
       "<Figure size 1500x400 with 2 Axes>"
      ],
      "image/png": "[encoded data removed]"
     },
     "metadata": {},
     "output_type": "display_data"
    }
   ],
   "execution_count": 144
  },
  {
   "cell_type": "code",
   "id": "28c23bac",
   "metadata": {
    "ExecuteTime": {
     "end_time": "2025-01-09T17:45:15.417897Z",
     "start_time": "2025-01-09T17:45:15.409896Z"
    }
   },
   "source": [
    "# Get unique values in column \"Dependents\" & \"Loan_Amount_Term\"\n",
    "loan_no_missing_data_df[\"Dependents\"].unique(),loan_no_missing_data_df[\"Loan_Amount_Term\"].unique()"
   ],
   "outputs": [
    {
     "data": {
      "text/plain": [
       "(array(['0', '1', '2', '3+'], dtype=object),\n",
       " array([360., 120., 240., 180.,  60., 300., 480.,  36.,  84.,  12.]))"
      ]
     },
     "execution_count": 146,
     "metadata": {},
     "output_type": "execute_result"
    }
   ],
   "execution_count": 146
  },
  {
   "cell_type": "code",
   "id": "e70e66ef",
   "metadata": {
    "ExecuteTime": {
     "end_time": "2025-01-09T17:45:31.130858Z",
     "start_time": "2025-01-09T17:45:31.125110Z"
    }
   },
   "source": [
    "# Build my own label encoding\n",
    "class LabelEncoding:\n",
    "    def __init__(self):\n",
    "        pass\n",
    "    \n",
    "    def fit(self, col):\n",
    "        self.out = {}\n",
    "        for idx, val in enumerate(col.unique()):\n",
    "            self.out[val] = idx\n",
    "            \n",
    "    def transform(self, col):\n",
    "        col = col.apply(lambda x: self.out[x])\n",
    "        return col\n",
    "    \n",
    "    def fit_transform(self, col):\n",
    "        self.fit(col)\n",
    "        return self.transform(col)"
   ],
   "outputs": [],
   "execution_count": 147
  },
  {
   "cell_type": "code",
   "id": "c837ac5d",
   "metadata": {
    "ExecuteTime": {
     "end_time": "2025-01-09T17:45:35.338214Z",
     "start_time": "2025-01-09T17:45:35.330767Z"
    }
   },
   "source": [
    "# apply label encoding to categorised column ro make this numeric\n",
    "cols = [\"Gender\", \"Dependents\", \"Married\", \"Education\", \"Self_Employed\", \"Property_Area\", \"Loan_Status\", \"Loan_Amount_Term\"]\n",
    "\n",
    "le = LabelEncoder()\n",
    "\n",
    "for col in cols:\n",
    "    loan_no_missing_data_df[col] = le.fit_transform(loan_no_missing_data_df[col])"
   ],
   "outputs": [],
   "execution_count": 148
  },
  {
   "cell_type": "code",
   "id": "d8d01ff6",
   "metadata": {
    "ExecuteTime": {
     "end_time": "2025-01-09T17:45:37.804131Z",
     "start_time": "2025-01-09T17:45:37.793102Z"
    }
   },
   "source": [
    "loan_no_missing_data_df.head()"
   ],
   "outputs": [
    {
     "data": {
      "text/plain": [
       "   Gender  Married  Dependents  Education  Self_Employed  LoanAmount  \\\n",
       "0       1        0           0          0              0   -1.492059   \n",
       "1       1        1           1          0              0   -1.618159   \n",
       "2       1        1           0          0              1   -2.220652   \n",
       "3       1        1           0          1              0   -1.678327   \n",
       "4       1        0           0          0              0   -1.527505   \n",
       "\n",
       "   Loan_Amount_Term  Credit_History  Property_Area  Loan_Status  TotalIncome  \n",
       "0                 8             1.0              2            1    -2.389846  \n",
       "1                 8             1.0              0            0    -2.357193  \n",
       "2                 8             1.0              2            1    -2.885382  \n",
       "3                 8             1.0              2            1    -2.522848  \n",
       "4                 8             1.0              2            1    -2.369347  "
      ],
      "text/html": [
       "<div>\n",
       "<style scoped>\n",
       "    .dataframe tbody tr th:only-of-type {\n",
       "        vertical-align: middle;\n",
       "    }\n",
       "\n",
       "    .dataframe tbody tr th {\n",
       "        vertical-align: top;\n",
       "    }\n",
       "\n",
       "    .dataframe thead th {\n",
       "        text-align: right;\n",
       "    }\n",
       "</style>\n",
       "<table border=\"1\" class=\"dataframe\">\n",
       "  <thead>\n",
       "    <tr style=\"text-align: right;\">\n",
       "      <th></th>\n",
       "      <th>Gender</th>\n",
       "      <th>Married</th>\n",
       "      <th>Dependents</th>\n",
       "      <th>Education</th>\n",
       "      <th>Self_Employed</th>\n",
       "      <th>LoanAmount</th>\n",
       "      <th>Loan_Amount_Term</th>\n",
       "      <th>Credit_History</th>\n",
       "      <th>Property_Area</th>\n",
       "      <th>Loan_Status</th>\n",
       "      <th>TotalIncome</th>\n",
       "    </tr>\n",
       "  </thead>\n",
       "  <tbody>\n",
       "    <tr>\n",
       "      <th>0</th>\n",
       "      <td>1</td>\n",
       "      <td>0</td>\n",
       "      <td>0</td>\n",
       "      <td>0</td>\n",
       "      <td>0</td>\n",
       "      <td>-1.492059</td>\n",
       "      <td>8</td>\n",
       "      <td>1.0</td>\n",
       "      <td>2</td>\n",
       "      <td>1</td>\n",
       "      <td>-2.389846</td>\n",
       "    </tr>\n",
       "    <tr>\n",
       "      <th>1</th>\n",
       "      <td>1</td>\n",
       "      <td>1</td>\n",
       "      <td>1</td>\n",
       "      <td>0</td>\n",
       "      <td>0</td>\n",
       "      <td>-1.618159</td>\n",
       "      <td>8</td>\n",
       "      <td>1.0</td>\n",
       "      <td>0</td>\n",
       "      <td>0</td>\n",
       "      <td>-2.357193</td>\n",
       "    </tr>\n",
       "    <tr>\n",
       "      <th>2</th>\n",
       "      <td>1</td>\n",
       "      <td>1</td>\n",
       "      <td>0</td>\n",
       "      <td>0</td>\n",
       "      <td>1</td>\n",
       "      <td>-2.220652</td>\n",
       "      <td>8</td>\n",
       "      <td>1.0</td>\n",
       "      <td>2</td>\n",
       "      <td>1</td>\n",
       "      <td>-2.885382</td>\n",
       "    </tr>\n",
       "    <tr>\n",
       "      <th>3</th>\n",
       "      <td>1</td>\n",
       "      <td>1</td>\n",
       "      <td>0</td>\n",
       "      <td>1</td>\n",
       "      <td>0</td>\n",
       "      <td>-1.678327</td>\n",
       "      <td>8</td>\n",
       "      <td>1.0</td>\n",
       "      <td>2</td>\n",
       "      <td>1</td>\n",
       "      <td>-2.522848</td>\n",
       "    </tr>\n",
       "    <tr>\n",
       "      <th>4</th>\n",
       "      <td>1</td>\n",
       "      <td>0</td>\n",
       "      <td>0</td>\n",
       "      <td>0</td>\n",
       "      <td>0</td>\n",
       "      <td>-1.527505</td>\n",
       "      <td>8</td>\n",
       "      <td>1.0</td>\n",
       "      <td>2</td>\n",
       "      <td>1</td>\n",
       "      <td>-2.369347</td>\n",
       "    </tr>\n",
       "  </tbody>\n",
       "</table>\n",
       "</div>"
      ]
     },
     "execution_count": 149,
     "metadata": {},
     "output_type": "execute_result"
    }
   ],
   "execution_count": 149
  },
  {
   "metadata": {
    "ExecuteTime": {
     "end_time": "2025-01-09T17:48:55.400885Z",
     "start_time": "2025-01-09T17:48:54.272647Z"
    }
   },
   "cell_type": "code",
   "source": [
    "# Uploads a DataFrame as a CSV file to an S3 bucket.\n",
    "conn.write_df(loan_no_missing_data_df, \"loan-pred-docs\", \"loan-pred-docs/loan_no_missing_data_df.csv\")"
   ],
   "id": "4a7af6a1d5f5a4e0",
   "outputs": [
    {
     "data": {
      "text/plain": [
       "False"
      ]
     },
     "execution_count": 150,
     "metadata": {},
     "output_type": "execute_result"
    }
   ],
   "execution_count": 150
  },
  {
   "cell_type": "markdown",
   "id": "a5628b61",
   "metadata": {},
   "source": [
    "## Data Modelling"
   ]
  },
  {
   "cell_type": "markdown",
   "id": "e957f682",
   "metadata": {},
   "source": [
    "#### Model training"
   ]
  },
  {
   "cell_type": "code",
   "id": "649ecf63",
   "metadata": {
    "ExecuteTime": {
     "end_time": "2025-01-09T17:49:22.476179Z",
     "start_time": "2025-01-09T17:49:22.469458Z"
    }
   },
   "source": [
    "# Proceed to build and test our model'\n",
    "# Split features and label dataset, where feature dataset is represented by `X` and label by `y`\n",
    "X = loan_no_missing_data_df.drop(columns=['Loan_Status'], axis=1)\n",
    "y = loan_no_missing_data_df[\"Loan_Status\"]"
   ],
   "outputs": [],
   "execution_count": 151
  },
  {
   "cell_type": "code",
   "id": "cb648b17",
   "metadata": {
    "ExecuteTime": {
     "end_time": "2025-01-09T17:49:26.245757Z",
     "start_time": "2025-01-09T17:49:26.237741Z"
    }
   },
   "source": [
    "# Split your train and test data\n",
    "X_train, X_test, y_train, y_test = train_test_split(X, y, test_size = 0.20, random_state=1000,stratify=y)"
   ],
   "outputs": [],
   "execution_count": 152
  },
  {
   "cell_type": "code",
   "id": "b40538fc",
   "metadata": {
    "ExecuteTime": {
     "end_time": "2025-01-09T17:49:27.584638Z",
     "start_time": "2025-01-09T17:49:27.577620Z"
    }
   },
   "source": [
    "y.value_counts(1)"
   ],
   "outputs": [
    {
     "data": {
      "text/plain": [
       "Loan_Status\n",
       "1    0.686786\n",
       "0    0.313214\n",
       "Name: proportion, dtype: float64"
      ]
     },
     "execution_count": 153,
     "metadata": {},
     "output_type": "execute_result"
    }
   ],
   "execution_count": 153
  },
  {
   "cell_type": "code",
   "id": "16b24919",
   "metadata": {
    "ExecuteTime": {
     "end_time": "2025-01-09T17:49:32.551613Z",
     "start_time": "2025-01-09T17:49:32.544049Z"
    }
   },
   "source": [
    "y_train.value_counts(1)"
   ],
   "outputs": [
    {
     "data": {
      "text/plain": [
       "Loan_Status\n",
       "1    0.687755\n",
       "0    0.312245\n",
       "Name: proportion, dtype: float64"
      ]
     },
     "execution_count": 154,
     "metadata": {},
     "output_type": "execute_result"
    }
   ],
   "execution_count": 154
  },
  {
   "cell_type": "code",
   "id": "cbe6a0ce",
   "metadata": {
    "ExecuteTime": {
     "end_time": "2025-01-09T17:49:38.856272Z",
     "start_time": "2025-01-09T17:49:38.851044Z"
    }
   },
   "source": [
    "# function to fit and score model\n",
    "def classify(model, x_t, y_t):\n",
    "    X_train, X_test, y_train, y_test = train_test_split(X, y, test_size=0.20, random_state=1000, stratify=y)\n",
    "    \n",
    "    model.fit(X_train, y_train)\n",
    "    print(\"The accuracy: \", model.score(X_test, y_test) * 100)\n",
    "    \n",
    "    score = cross_val_score(model, x_t, y_t, cv=5)\n",
    "    print(\"Cross Validate score: \", np.mean(score) * 100)"
   ],
   "outputs": [],
   "execution_count": 155
  },
  {
   "cell_type": "markdown",
   "id": "06f51e1c",
   "metadata": {},
   "source": [
    "#### Using logistic regression algorithm"
   ]
  },
  {
   "cell_type": "code",
   "id": "dc2a5991",
   "metadata": {
    "ExecuteTime": {
     "end_time": "2025-01-09T17:49:40.505975Z",
     "start_time": "2025-01-09T17:49:40.501125Z"
    }
   },
   "source": [
    "# Using logistic Regression\n",
    "log_model = LogisticRegression()"
   ],
   "outputs": [],
   "execution_count": 156
  },
  {
   "cell_type": "code",
   "id": "9daf431a",
   "metadata": {
    "ExecuteTime": {
     "end_time": "2025-01-09T17:49:43.542287Z",
     "start_time": "2025-01-09T17:49:43.519067Z"
    }
   },
   "source": [
    "# fit / train model\n",
    "log_model.fit(X_train, y_train);"
   ],
   "outputs": [],
   "execution_count": 157
  },
  {
   "cell_type": "code",
   "id": "6e748c38",
   "metadata": {
    "ExecuteTime": {
     "end_time": "2025-01-09T17:49:45.401294Z",
     "start_time": "2025-01-09T17:49:45.393981Z"
    }
   },
   "source": [
    "# Make a prediction with your test features\n",
    "log_model.predict(X_test)"
   ],
   "outputs": [
    {
     "data": {
      "text/plain": [
       "array([1, 1, 1, 1, 1, 1, 0, 1, 1, 0, 1, 1, 0, 0, 1, 1, 1, 1, 1, 1, 1, 1,\n",
       "       1, 0, 1, 0, 1, 1, 1, 0, 1, 1, 1, 1, 1, 1, 1, 1, 1, 1, 1, 1, 1, 1,\n",
       "       0, 1, 1, 1, 1, 1, 1, 1, 1, 1, 1, 1, 1, 1, 1, 1, 1, 1, 1, 1, 0, 1,\n",
       "       1, 1, 1, 1, 1, 1, 1, 1, 1, 1, 1, 1, 0, 1, 1, 1, 1, 1, 1, 1, 1, 1,\n",
       "       1, 1, 0, 1, 1, 1, 0, 0, 1, 1, 1, 1, 0, 1, 1, 1, 1, 0, 1, 1, 1, 1,\n",
       "       1, 1, 1, 1, 0, 0, 1, 1, 1, 0, 1, 1, 0])"
      ]
     },
     "execution_count": 158,
     "metadata": {},
     "output_type": "execute_result"
    }
   ],
   "execution_count": 158
  },
  {
   "cell_type": "code",
   "id": "ad1a6f0f",
   "metadata": {
    "ExecuteTime": {
     "end_time": "2025-01-09T17:49:49.844246Z",
     "start_time": "2025-01-09T17:49:49.838806Z"
    }
   },
   "source": [
    "# actual test label\n",
    "y_test.to_numpy()"
   ],
   "outputs": [
    {
     "data": {
      "text/plain": [
       "array([1, 1, 1, 1, 1, 0, 0, 1, 1, 0, 1, 1, 0, 0, 0, 1, 1, 1, 1, 0, 1, 1,\n",
       "       1, 0, 0, 0, 1, 1, 0, 0, 1, 0, 0, 1, 1, 1, 1, 1, 1, 1, 0, 1, 0, 0,\n",
       "       0, 1, 0, 0, 1, 1, 1, 1, 1, 1, 1, 1, 0, 0, 1, 1, 1, 1, 1, 1, 0, 1,\n",
       "       0, 1, 1, 0, 1, 0, 1, 1, 1, 1, 0, 1, 0, 1, 1, 1, 1, 1, 0, 1, 1, 1,\n",
       "       1, 1, 0, 1, 1, 1, 0, 1, 0, 1, 1, 1, 1, 0, 1, 1, 1, 0, 1, 1, 1, 1,\n",
       "       1, 0, 1, 1, 0, 0, 1, 1, 1, 0, 1, 1, 0])"
      ]
     },
     "execution_count": 159,
     "metadata": {},
     "output_type": "execute_result"
    }
   ],
   "execution_count": 159
  },
  {
   "cell_type": "code",
   "id": "fe2044c3",
   "metadata": {
    "ExecuteTime": {
     "end_time": "2025-01-09T17:49:50.862439Z",
     "start_time": "2025-01-09T17:49:50.852863Z"
    }
   },
   "source": [
    "# accuracy score for logistic Regression \n",
    "accuracy_score(y_test, log_model.predict(X_test))"
   ],
   "outputs": [
    {
     "data": {
      "text/plain": [
       "0.8048780487804879"
      ]
     },
     "execution_count": 160,
     "metadata": {},
     "output_type": "execute_result"
    }
   ],
   "execution_count": 160
  },
  {
   "cell_type": "code",
   "id": "65b119cd",
   "metadata": {
    "ExecuteTime": {
     "end_time": "2025-01-09T17:49:51.904447Z",
     "start_time": "2025-01-09T17:49:51.894002Z"
    }
   },
   "source": [
    "# precision score for logistic Regression \n",
    "precision_score(y_test, log_model.predict(X_test))"
   ],
   "outputs": [
    {
     "data": {
      "text/plain": [
       "0.7884615384615384"
      ]
     },
     "execution_count": 161,
     "metadata": {},
     "output_type": "execute_result"
    }
   ],
   "execution_count": 161
  },
  {
   "cell_type": "code",
   "id": "5c0ce1d1",
   "metadata": {
    "ExecuteTime": {
     "end_time": "2025-01-09T17:49:54.030830Z",
     "start_time": "2025-01-09T17:49:54.021964Z"
    }
   },
   "source": [
    "# recall score for logistic Regression \n",
    "recall_score(y_test, log_model.predict(X_test))"
   ],
   "outputs": [
    {
     "data": {
      "text/plain": [
       "0.9761904761904762"
      ]
     },
     "execution_count": 162,
     "metadata": {},
     "output_type": "execute_result"
    }
   ],
   "execution_count": 162
  },
  {
   "cell_type": "code",
   "id": "fc4764d0",
   "metadata": {
    "ExecuteTime": {
     "end_time": "2025-01-09T17:49:55.333591Z",
     "start_time": "2025-01-09T17:49:55.275604Z"
    }
   },
   "source": [
    "score = cross_val_score(log_model, X, y, cv=5)\n",
    "print(\"Cross Validate score: \", np.mean(score) * 100)"
   ],
   "outputs": [
    {
     "name": "stdout",
     "output_type": "stream",
     "text": [
      "Cross Validate score:  80.9236305477809\n"
     ]
    }
   ],
   "execution_count": 163
  },
  {
   "cell_type": "code",
   "id": "0041420b",
   "metadata": {
    "ExecuteTime": {
     "end_time": "2025-01-09T17:49:57.331946Z",
     "start_time": "2025-01-09T17:49:57.324012Z"
    }
   },
   "source": [
    "# confusion_matrix for logistic Regression \n",
    "confusion_matrix(y_test, log_model.predict(X_test))"
   ],
   "outputs": [
    {
     "data": {
      "text/plain": [
       "array([[17, 22],\n",
       "       [ 2, 82]])"
      ]
     },
     "execution_count": 164,
     "metadata": {},
     "output_type": "execute_result"
    }
   ],
   "execution_count": 164
  },
  {
   "cell_type": "code",
   "id": "d724f6f2",
   "metadata": {
    "ExecuteTime": {
     "end_time": "2025-01-09T17:49:58.724384Z",
     "start_time": "2025-01-09T17:49:58.717526Z"
    }
   },
   "source": [
    "# produce more colourful confusion matrix\n",
    "def customise_confusion_matrix(y_true, y_pred, normalize=False, title=None, cmap=plt.cm.Purples):\n",
    "    cm = confusion_matrix(y_true, y_pred)\n",
    "    plt.figure(figsize=(4, 3))\n",
    "    sns.heatmap(cm, annot=True, fmt='g', cmap=cmap)\n",
    "    plt.xlabel('Predicted labels')\n",
    "    plt.ylabel('Actual labels')\n",
    "    plt.title('Confusion Matrix')\n",
    "    plt.show()"
   ],
   "outputs": [],
   "execution_count": 165
  },
  {
   "cell_type": "code",
   "id": "0de2fb1a",
   "metadata": {
    "ExecuteTime": {
     "end_time": "2025-01-09T17:50:00.273892Z",
     "start_time": "2025-01-09T17:50:00.145866Z"
    }
   },
   "source": [
    "# confusion_matrix for logistic Regression \n",
    "customise_confusion_matrix(y_test, log_model.predict(X_test))"
   ],
   "outputs": [
    {
     "data": {
      "text/plain": [
       "<Figure size 400x300 with 2 Axes>"
      ],
      "image/png": "[encoded data removed]"
     },
     "metadata": {},
     "output_type": "display_data"
    }
   ],
   "execution_count": 166
  },
  {
   "cell_type": "code",
   "id": "b04a8905",
   "metadata": {
    "ExecuteTime": {
     "end_time": "2025-01-09T17:50:05.449150Z",
     "start_time": "2025-01-09T17:50:05.301513Z"
    }
   },
   "source": [
    "# OR\n",
    "import sklearn\n",
    "\n",
    "# Note this is from a fitted model and not predictions. Also, note we are passing all X and y date, \n",
    "# hence why we are getting more data\n",
    "ConfusionMatrixDisplay.from_estimator(estimator=log_model,X=X, y=y);"
   ],
   "outputs": [
    {
     "data": {
      "text/plain": [
       "<Figure size 800x550 with 2 Axes>"
      ],
      "image/png": "[encoded data removed]"
     },
     "metadata": {},
     "output_type": "display_data"
    }
   ],
   "execution_count": 167
  },
  {
   "cell_type": "code",
   "id": "adde2f7d",
   "metadata": {
    "ExecuteTime": {
     "end_time": "2025-01-09T17:50:06.973851Z",
     "start_time": "2025-01-09T17:50:06.830028Z"
    }
   },
   "source": [
    "# Note this is from a predictions\n",
    "ConfusionMatrixDisplay.from_predictions(y_true=y_test,y_pred=log_model.predict(X_test));"
   ],
   "outputs": [
    {
     "data": {
      "text/plain": [
       "<Figure size 800x550 with 2 Axes>"
      ],
      "image/png": "[encoded data removed]"
     },
     "metadata": {},
     "output_type": "display_data"
    }
   ],
   "execution_count": 168
  },
  {
   "cell_type": "code",
   "id": "85a3bcb8",
   "metadata": {
    "ExecuteTime": {
     "end_time": "2025-01-09T17:50:08.404816Z",
     "start_time": "2025-01-09T17:50:08.397148Z"
    }
   },
   "source": [
    "# confusion_matrix for logistic Regression \n",
    "roc_auc_score(y_test, log_model.predict(X_test))"
   ],
   "outputs": [
    {
     "data": {
      "text/plain": [
       "np.float64(0.706043956043956)"
      ]
     },
     "execution_count": 169,
     "metadata": {},
     "output_type": "execute_result"
    }
   ],
   "execution_count": 169
  },
  {
   "cell_type": "markdown",
   "id": "d764c5e4",
   "metadata": {},
   "source": [
    "#### Using RandomForestClassifier algorithm"
   ]
  },
  {
   "cell_type": "code",
   "id": "d3243209",
   "metadata": {
    "ExecuteTime": {
     "end_time": "2025-01-09T17:50:28.055543Z",
     "start_time": "2025-01-09T17:50:24.646659Z"
    }
   },
   "source": [
    "# RandomForestClassifier algorithm\n",
    "# Try different amount of n_estimate to see which is better\n",
    "np.random.seed(1000) # so our results are replicable\n",
    "for i in range (10, 200, 10):\n",
    "    print(f\"Trying model with {i} estimators ...\")\n",
    "    rand_model = RandomForestClassifier(n_estimators=i).fit(X_train, y_train)\n",
    "    print(f\"Model accuracy on the test set: {accuracy_score(y_test, rand_model.predict(X_test)) * 100:.2f}%\")\n",
    "    print(f\"Model precision on the test set: {precision_score(y_test, rand_model.predict(X_test)) * 100:.2f}%\")\n",
    "    print(f\"Model recall on the test set: {recall_score(y_test, rand_model.predict(X_test)) * 100:.2f}%\")"
   ],
   "outputs": [
    {
     "name": "stdout",
     "output_type": "stream",
     "text": [
      "Trying model with 10 estimators ...\n",
      "Model accuracy on the test set: 71.54%\n",
      "Model precision on the test set: 77.53%\n",
      "Model recall on the test set: 82.14%\n",
      "Trying model with 20 estimators ...\n",
      "Model accuracy on the test set: 71.54%\n",
      "Model precision on the test set: 76.92%\n",
      "Model recall on the test set: 83.33%\n",
      "Trying model with 30 estimators ...\n",
      "Model accuracy on the test set: 77.24%\n",
      "Model precision on the test set: 79.17%\n",
      "Model recall on the test set: 90.48%\n",
      "Trying model with 40 estimators ...\n",
      "Model accuracy on the test set: 79.67%\n",
      "Model precision on the test set: 79.80%\n",
      "Model recall on the test set: 94.05%\n",
      "Trying model with 50 estimators ...\n",
      "Model accuracy on the test set: 78.86%\n",
      "Model precision on the test set: 79.59%\n",
      "Model recall on the test set: 92.86%\n",
      "Trying model with 60 estimators ...\n",
      "Model accuracy on the test set: 79.67%\n",
      "Model precision on the test set: 79.80%\n",
      "Model recall on the test set: 94.05%\n",
      "Trying model with 70 estimators ...\n",
      "Model accuracy on the test set: 78.05%\n",
      "Model precision on the test set: 79.38%\n",
      "Model recall on the test set: 91.67%\n",
      "Trying model with 80 estimators ...\n",
      "Model accuracy on the test set: 78.05%\n",
      "Model precision on the test set: 79.38%\n",
      "Model recall on the test set: 91.67%\n",
      "Trying model with 90 estimators ...\n",
      "Model accuracy on the test set: 80.49%\n",
      "Model precision on the test set: 80.00%\n",
      "Model recall on the test set: 95.24%\n",
      "Trying model with 100 estimators ...\n",
      "Model accuracy on the test set: 78.86%\n",
      "Model precision on the test set: 79.59%\n",
      "Model recall on the test set: 92.86%\n",
      "Trying model with 110 estimators ...\n",
      "Model accuracy on the test set: 79.67%\n",
      "Model precision on the test set: 80.41%\n",
      "Model recall on the test set: 92.86%\n",
      "Trying model with 120 estimators ...\n",
      "Model accuracy on the test set: 79.67%\n",
      "Model precision on the test set: 79.80%\n",
      "Model recall on the test set: 94.05%\n",
      "Trying model with 130 estimators ...\n",
      "Model accuracy on the test set: 80.49%\n",
      "Model precision on the test set: 80.00%\n",
      "Model recall on the test set: 95.24%\n",
      "Trying model with 140 estimators ...\n",
      "Model accuracy on the test set: 78.05%\n",
      "Model precision on the test set: 78.79%\n",
      "Model recall on the test set: 92.86%\n",
      "Trying model with 150 estimators ...\n",
      "Model accuracy on the test set: 78.05%\n",
      "Model precision on the test set: 79.38%\n",
      "Model recall on the test set: 91.67%\n",
      "Trying model with 160 estimators ...\n",
      "Model accuracy on the test set: 79.67%\n",
      "Model precision on the test set: 79.80%\n",
      "Model recall on the test set: 94.05%\n",
      "Trying model with 170 estimators ...\n",
      "Model accuracy on the test set: 78.86%\n",
      "Model precision on the test set: 79.59%\n",
      "Model recall on the test set: 92.86%\n",
      "Trying model with 180 estimators ...\n",
      "Model accuracy on the test set: 78.86%\n",
      "Model precision on the test set: 79.59%\n",
      "Model recall on the test set: 92.86%\n",
      "Trying model with 190 estimators ...\n",
      "Model accuracy on the test set: 80.49%\n",
      "Model precision on the test set: 80.00%\n",
      "Model recall on the test set: 95.24%\n"
     ]
    }
   ],
   "execution_count": 170
  },
  {
   "cell_type": "markdown",
   "id": "3cd3e29a",
   "metadata": {},
   "source": [
    "**The results above indicate that the best estimator for the chosen range is `90`. For this model training `n_estimator = 90` will be used**"
   ]
  },
  {
   "cell_type": "code",
   "id": "cef42105",
   "metadata": {
    "ExecuteTime": {
     "end_time": "2025-01-09T17:50:36.613236Z",
     "start_time": "2025-01-09T17:50:36.383474Z"
    }
   },
   "source": [
    "np.random.seed(1000) # so our results are replicable\n",
    "rand_model = RandomForestClassifier(n_estimators=130).fit(X_train, y_train)\n",
    "print(f\"Model accuracy on the test set: {accuracy_score(y_test, rand_model.predict(X_test)) * 100:.2f}%\")\n",
    "print(f\"Model precision on the test set: {precision_score(y_test, rand_model.predict(X_test)) * 100:.2f}%\")\n",
    "print(f\"Model recall on the test set: {recall_score(y_test, rand_model.predict(X_test)) * 100:.2f}%\")"
   ],
   "outputs": [
    {
     "name": "stdout",
     "output_type": "stream",
     "text": [
      "Model accuracy on the test set: 79.67%\n",
      "Model precision on the test set: 79.80%\n",
      "Model recall on the test set: 94.05%\n"
     ]
    }
   ],
   "execution_count": 171
  },
  {
   "cell_type": "code",
   "id": "9fe692e3",
   "metadata": {
    "ExecuteTime": {
     "end_time": "2025-01-09T17:50:46.558471Z",
     "start_time": "2025-01-09T17:50:46.538864Z"
    }
   },
   "source": [
    "# confusion_matrix for RandomForestClassifier \n",
    "confusion_matrix(y_test, rand_model.predict(X_test))"
   ],
   "outputs": [
    {
     "data": {
      "text/plain": [
       "array([[19, 20],\n",
       "       [ 5, 79]])"
      ]
     },
     "execution_count": 172,
     "metadata": {},
     "output_type": "execute_result"
    }
   ],
   "execution_count": 172
  },
  {
   "cell_type": "code",
   "id": "c99fcff4",
   "metadata": {
    "ExecuteTime": {
     "end_time": "2025-01-09T17:50:47.859744Z",
     "start_time": "2025-01-09T17:50:47.720520Z"
    }
   },
   "source": [
    "# confusion_matrix for RandomForestClassifier\n",
    "customise_confusion_matrix(y_test, rand_model.predict(X_test))"
   ],
   "outputs": [
    {
     "data": {
      "text/plain": [
       "<Figure size 400x300 with 2 Axes>"
      ],
      "image/png": "[encoded data removed]"
     },
     "metadata": {},
     "output_type": "display_data"
    }
   ],
   "execution_count": 173
  },
  {
   "cell_type": "code",
   "id": "a45b9a53",
   "metadata": {
    "ExecuteTime": {
     "end_time": "2025-01-09T17:50:50.147899Z",
     "start_time": "2025-01-09T17:50:49.076864Z"
    }
   },
   "source": [
    "score = cross_val_score(rand_model, X, y, cv=5)\n",
    "print(\"Cross Validate score: \", np.mean(score) * 100)"
   ],
   "outputs": [
    {
     "name": "stdout",
     "output_type": "stream",
     "text": [
      "Cross Validate score:  77.6609356257497\n"
     ]
    }
   ],
   "execution_count": 174
  },
  {
   "cell_type": "code",
   "id": "7aa83c47",
   "metadata": {
    "ExecuteTime": {
     "end_time": "2025-01-09T17:50:51.050562Z",
     "start_time": "2025-01-09T17:50:51.031691Z"
    }
   },
   "source": [
    "# confusion_matrix for RandomForestClassifier \n",
    "roc_auc_score(y_test, rand_model.predict(X_test))"
   ],
   "outputs": [
    {
     "data": {
      "text/plain": [
       "np.float64(0.7138278388278388)"
      ]
     },
     "execution_count": 175,
     "metadata": {},
     "output_type": "execute_result"
    }
   ],
   "execution_count": 175
  },
  {
   "cell_type": "markdown",
   "id": "0fbb169c",
   "metadata": {},
   "source": [
    "**Area under the receiver operating characteristics curve (AUC/POC) using results for RFC model**\n",
    "\n",
    "* Area under curve (AUC)\n",
    "* ROC curve\n",
    "\n",
    "ROC curve: comparisons a model's true positive rate (`tpr`) versus a models false positive rate (`fpr`)\n",
    "\n",
    "* True positive = model predicts 1 when truth is 1\n",
    "* False positive = model predicts 1 when truth is 0\n",
    "* True negative = model predicts 0 when truth is 0\n",
    "* False negative = model predicts 0 when truth is 1"
   ]
  },
  {
   "cell_type": "code",
   "id": "320ca66f",
   "metadata": {
    "scrolled": true,
    "ExecuteTime": {
     "end_time": "2025-01-09T17:50:52.992145Z",
     "start_time": "2025-01-09T17:50:52.974777Z"
    }
   },
   "source": [
    "# Make predictions with probabilities\n",
    "y_probs = rand_model.predict_proba(X_test)\n",
    "y_probs[:10], len(y_probs)"
   ],
   "outputs": [
    {
     "data": {
      "text/plain": [
       "(array([[0.32307692, 0.67692308],\n",
       "        [0.03846154, 0.96153846],\n",
       "        [0.27692308, 0.72307692],\n",
       "        [0.32307692, 0.67692308],\n",
       "        [0.3       , 0.7       ],\n",
       "        [0.11538462, 0.88461538],\n",
       "        [0.96153846, 0.03846154],\n",
       "        [0.30769231, 0.69230769],\n",
       "        [0.06923077, 0.93076923],\n",
       "        [0.95384615, 0.04615385]]),\n",
       " 123)"
      ]
     },
     "execution_count": 176,
     "metadata": {},
     "output_type": "execute_result"
    }
   ],
   "execution_count": 176
  },
  {
   "cell_type": "code",
   "id": "95cf6b0f",
   "metadata": {
    "ExecuteTime": {
     "end_time": "2025-01-09T17:50:53.986772Z",
     "start_time": "2025-01-09T17:50:53.980368Z"
    }
   },
   "source": [
    "y_probs_positive = y_probs[:,1]\n",
    "y_probs_positive[:10]"
   ],
   "outputs": [
    {
     "data": {
      "text/plain": [
       "array([0.67692308, 0.96153846, 0.72307692, 0.67692308, 0.7       ,\n",
       "       0.88461538, 0.03846154, 0.69230769, 0.93076923, 0.04615385])"
      ]
     },
     "execution_count": 177,
     "metadata": {},
     "output_type": "execute_result"
    }
   ],
   "execution_count": 177
  },
  {
   "cell_type": "code",
   "id": "36ac33f1",
   "metadata": {
    "ExecuteTime": {
     "end_time": "2025-01-09T17:50:54.844851Z",
     "start_time": "2025-01-09T17:50:54.837646Z"
    }
   },
   "source": [
    "# Calculate fpr, tpr and thresholds\n",
    "fpr, tpr, thresholds = roc_curve(y_test, y_probs_positive)\n",
    "\n",
    "fpr"
   ],
   "outputs": [
    {
     "data": {
      "text/plain": [
       "array([0.        , 0.        , 0.        , 0.02564103, 0.02564103,\n",
       "       0.02564103, 0.07692308, 0.1025641 , 0.1025641 , 0.1025641 ,\n",
       "       0.12820513, 0.15384615, 0.17948718, 0.17948718, 0.17948718,\n",
       "       0.17948718, 0.17948718, 0.23076923, 0.25641026, 0.25641026,\n",
       "       0.25641026, 0.28205128, 0.28205128, 0.28205128, 0.30769231,\n",
       "       0.33333333, 0.33333333, 0.33333333, 0.38461538, 0.43589744,\n",
       "       0.46153846, 0.46153846, 0.46153846, 0.48717949, 0.48717949,\n",
       "       0.48717949, 0.48717949, 0.48717949, 0.51282051, 0.51282051,\n",
       "       0.51282051, 0.51282051, 0.51282051, 0.51282051, 0.51282051,\n",
       "       0.51282051, 0.56410256, 0.56410256, 0.61538462, 0.66666667,\n",
       "       0.66666667, 0.69230769, 0.76923077, 0.76923077, 0.79487179,\n",
       "       0.84615385, 0.92307692, 1.        ])"
      ]
     },
     "execution_count": 178,
     "metadata": {},
     "output_type": "execute_result"
    }
   ],
   "execution_count": 178
  },
  {
   "cell_type": "code",
   "id": "a314409a",
   "metadata": {
    "ExecuteTime": {
     "end_time": "2025-01-09T17:50:55.927647Z",
     "start_time": "2025-01-09T17:50:55.791734Z"
    }
   },
   "source": [
    "# Create a function for plotting ROC cureve\n",
    "\n",
    "def roc_curve(fpr, tpr):\n",
    "    \n",
    "    plt.plot(fpr, tpr, color=\"orange\", label=\"ROC\")\n",
    "    # Plot line with no predictive power (baselne)\n",
    "    plt.plot([0, 1], [0, 1], color=\"darkblue\", linestyle=\"--\", label=\"Random guess\")\n",
    "    \n",
    "    # Customize the plot\n",
    "    plt.xlabel(\"False positive rate (fpr)\")\n",
    "    plt.ylabel(\"True positive rate (tpr)\")\n",
    "    plt.title(\"Receiver Operating Characteristic (ROC) Curve\")\n",
    "    plt.legend()\n",
    "    plt.show()\n",
    "\n",
    "roc_curve(fpr, tpr)"
   ],
   "outputs": [
    {
     "data": {
      "text/plain": [
       "<Figure size 800x550 with 1 Axes>"
      ],
      "image/png": "[encoded data removed]"
     },
     "metadata": {},
     "output_type": "display_data"
    }
   ],
   "execution_count": 179
  },
  {
   "cell_type": "code",
   "id": "b699c33f",
   "metadata": {
    "ExecuteTime": {
     "end_time": "2025-01-09T17:50:57.129537Z",
     "start_time": "2025-01-09T17:50:57.115240Z"
    }
   },
   "source": [
    "# Using the logistics regression print classification report\n",
    "print(classification_report(y_test,log_model.predict(X_test)))"
   ],
   "outputs": [
    {
     "name": "stdout",
     "output_type": "stream",
     "text": [
      "              precision    recall  f1-score   support\n",
      "\n",
      "           0       0.89      0.44      0.59        39\n",
      "           1       0.79      0.98      0.87        84\n",
      "\n",
      "    accuracy                           0.80       123\n",
      "   macro avg       0.84      0.71      0.73       123\n",
      "weighted avg       0.82      0.80      0.78       123\n",
      "\n"
     ]
    }
   ],
   "execution_count": 180
  },
  {
   "cell_type": "code",
   "id": "c80bdad0",
   "metadata": {
    "ExecuteTime": {
     "end_time": "2025-01-09T17:50:57.980596Z",
     "start_time": "2025-01-09T17:50:57.962195Z"
    }
   },
   "source": [
    "pd.DataFrame(classification_report(y_test,log_model.predict(X_test), output_dict=True))"
   ],
   "outputs": [
    {
     "data": {
      "text/plain": [
       "                   0          1  accuracy   macro avg  weighted avg\n",
       "precision   0.894737   0.788462  0.804878    0.841599      0.822159\n",
       "recall      0.435897   0.976190  0.804878    0.706044      0.804878\n",
       "f1-score    0.586207   0.872340  0.804878    0.729274      0.781615\n",
       "support    39.000000  84.000000  0.804878  123.000000    123.000000"
      ],
      "text/html": [
       "<div>\n",
       "<style scoped>\n",
       "    .dataframe tbody tr th:only-of-type {\n",
       "        vertical-align: middle;\n",
       "    }\n",
       "\n",
       "    .dataframe tbody tr th {\n",
       "        vertical-align: top;\n",
       "    }\n",
       "\n",
       "    .dataframe thead th {\n",
       "        text-align: right;\n",
       "    }\n",
       "</style>\n",
       "<table border=\"1\" class=\"dataframe\">\n",
       "  <thead>\n",
       "    <tr style=\"text-align: right;\">\n",
       "      <th></th>\n",
       "      <th>0</th>\n",
       "      <th>1</th>\n",
       "      <th>accuracy</th>\n",
       "      <th>macro avg</th>\n",
       "      <th>weighted avg</th>\n",
       "    </tr>\n",
       "  </thead>\n",
       "  <tbody>\n",
       "    <tr>\n",
       "      <th>precision</th>\n",
       "      <td>0.894737</td>\n",
       "      <td>0.788462</td>\n",
       "      <td>0.804878</td>\n",
       "      <td>0.841599</td>\n",
       "      <td>0.822159</td>\n",
       "    </tr>\n",
       "    <tr>\n",
       "      <th>recall</th>\n",
       "      <td>0.435897</td>\n",
       "      <td>0.976190</td>\n",
       "      <td>0.804878</td>\n",
       "      <td>0.706044</td>\n",
       "      <td>0.804878</td>\n",
       "    </tr>\n",
       "    <tr>\n",
       "      <th>f1-score</th>\n",
       "      <td>0.586207</td>\n",
       "      <td>0.872340</td>\n",
       "      <td>0.804878</td>\n",
       "      <td>0.729274</td>\n",
       "      <td>0.781615</td>\n",
       "    </tr>\n",
       "    <tr>\n",
       "      <th>support</th>\n",
       "      <td>39.000000</td>\n",
       "      <td>84.000000</td>\n",
       "      <td>0.804878</td>\n",
       "      <td>123.000000</td>\n",
       "      <td>123.000000</td>\n",
       "    </tr>\n",
       "  </tbody>\n",
       "</table>\n",
       "</div>"
      ]
     },
     "execution_count": 181,
     "metadata": {},
     "output_type": "execute_result"
    }
   ],
   "execution_count": 181
  }
 ],
 "metadata": {
  "kernelspec": {
   "display_name": "Python 3 (ipykernel)",
   "language": "python",
   "name": "python3"
  },
  "language_info": {
   "codemirror_mode": {
    "name": "ipython",
    "version": 3
   },
   "file_extension": ".py",
   "mimetype": "text/x-python",
   "name": "python",
   "nbconvert_exporter": "python",
   "pygments_lexer": "ipython3",
   "version": "3.10.13"
  }
 },
 "nbformat": 4,
 "nbformat_minor": 5
}
